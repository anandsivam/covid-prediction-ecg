{
  "cells": [
    {
      "cell_type": "code",
      "execution_count": null,
      "metadata": {
        "id": "c624664a"
      },
      "outputs": [],
      "source": [
        "import os\n",
        "import numpy as np\n",
        "import cv2\n",
        "import matplotlib.pyplot as plt\n",
        "\n",
        "from PIL import Image, ImageOps, ImageFilter\n",
        "\n",
        "# import imutils\n",
        "# import itertools\n",
        "# import shutil\n",
        "# import random\n",
        "# import glob\n",
        "\n",
        "import warnings\n",
        "warnings.simplefilter(action='ignore', category=FutureWarning)\n",
        "\n",
        "%matplotlib inline"
      ],
      "id": "c624664a"
    },
    {
      "cell_type": "code",
      "source": [
        "from google.colab import drive\n",
        "drive.mount('/content/drive')"
      ],
      "metadata": {
        "colab": {
          "base_uri": "https://localhost:8080/"
        },
        "id": "DAk-eAdE2FO1",
        "outputId": "47725e32-d9ea-4290-bb36-dac47e9aacd6"
      },
      "id": "DAk-eAdE2FO1",
      "execution_count": null,
      "outputs": [
        {
          "output_type": "stream",
          "name": "stdout",
          "text": [
            "Mounted at /content/drive\n"
          ]
        }
      ]
    },
    {
      "cell_type": "markdown",
      "metadata": {
        "id": "02026858"
      },
      "source": [
        "# **Processing Covid19 Patients ECG images**"
      ],
      "id": "02026858"
    },
    {
      "cell_type": "code",
      "execution_count": null,
      "metadata": {
        "id": "a8d084ee"
      },
      "outputs": [],
      "source": [
        "def gammaCorrection(src, gamma):\n",
        "    invGamma = 1 / gamma\n",
        " \n",
        "    table = [((i / 255) ** invGamma) * 255 for i in range(256)]\n",
        "    table = np.array(table, np.uint8)\n",
        " \n",
        "    return cv2.LUT(src, table)"
      ],
      "id": "a8d084ee"
    },
    {
      "cell_type": "code",
      "execution_count": null,
      "metadata": {
        "colab": {
          "base_uri": "https://localhost:8080/",
          "height": 36
        },
        "id": "1IfsP2kob8Xg",
        "outputId": "87b8a8f2-dc77-4473-b46f-b8a9d704a194"
      },
      "outputs": [
        {
          "output_type": "execute_result",
          "data": {
            "text/plain": [
              "'/content'"
            ],
            "application/vnd.google.colaboratory.intrinsic+json": {
              "type": "string"
            }
          },
          "metadata": {},
          "execution_count": 18
        }
      ],
      "source": [
        "pwd"
      ],
      "id": "1IfsP2kob8Xg"
    },
    {
      "cell_type": "code",
      "execution_count": null,
      "metadata": {
        "id": "9fa32179",
        "scrolled": true
      },
      "outputs": [],
      "source": [
        "# main_path = \"C:\\\\Users\\\\anant\\\\jupyterBooks\\\\LectureNotebooks\\\\2022W\\\\AML_2404_LAB\\\\data1\"\n",
        "\n",
        "main_path = '/content/drive/My Drive/Lab_project/data/raw_data'\n",
        "\n",
        "for foldername in os.listdir(main_path): # looping over the different class folder\n",
        "\n",
        "    \n",
        "  folder = main_path+\"/\"+foldername\n",
        "  Copy_to_path = folder+\"/processed/\"\n",
        "\n",
        "  print(folder)\n",
        "  print(Copy_to_path)\n",
        "  print(\"------------------------------\")\n",
        "\n",
        "  if foldername != \"arrhythmia\":\n",
        "  \n",
        "    for index, filename in enumerate(os.listdir(folder)): # retrieving the image files in particular folder\n",
        "    \n",
        "      if filename != 'processed':\n",
        "          \n",
        "          image = cv2.imread(folder+\"/\"+filename, cv2.IMREAD_GRAYSCALE) # grayscale\n",
        "\n",
        "          enhance = cv2.equalizeHist(image) # equalize histogram used to enchance the lines\n",
        "\n",
        "          thrsh = cv2.adaptiveThreshold(enhance,255,cv2.ADAPTIVE_THRESH_MEAN_C,cv2.THRESH_BINARY,41,21) \n",
        "\n",
        "          contrs, _ = cv2.findContours(thrsh.copy(),cv2.RETR_TREE,cv2.CHAIN_APPROX_SIMPLE) # using threshold to get the contours\n",
        "          contrs = list(contrs)\n",
        "\n",
        "          c = max(contrs, key = cv2.contourArea) # getting the largest contours that is the largest shape ( image boundary )\n",
        "          \n",
        "          if c.shape[0] <= 4:            \n",
        "\n",
        "              contrs.remove(max(contrs, key = cv2.contourArea)) # removing the frame\n",
        "\n",
        "              c = max(contrs, key = cv2.contourArea) # again getting the largest frame that is the pulse frame\n",
        "\n",
        "              x,y,w,h = cv2.boundingRect(c) # getting the co-ordinates\n",
        "\n",
        "\n",
        "              rect = image[y:y+h, x:x+w] # cropping the frame\n",
        "\n",
        "              cv2.rectangle(image,(x,y),(x+w,y+h),(0,255,0),10) # drawing rectangle with the co-ordinates\n",
        "\n",
        "              gamma_corrected = gammaCorrection(rect,3) # gamma correction\n",
        "\n",
        "              (thresh, im_bw) = cv2.threshold(gamma_corrected, 50, 255, cv2.THRESH_BINARY | cv2.THRESH_OTSU) # threshold is increased\n",
        "\n",
        "              im_bw_resize = cv2.resize(im_bw,(720, 576)) # resizing the image to 256\n",
        "\n",
        "              img = Image.fromarray(im_bw_resize)\n",
        "\n",
        "              print(filename, \" \", index)\n",
        "              \n",
        "              img.save(Copy_to_path+f'{foldername}_{index}.jpg', 'JPEG')\n",
        "      else:\n",
        "          pass\n",
        "\n",
        "\n",
        "\n",
        "\n"
      ],
      "id": "9fa32179"
    },
    {
      "cell_type": "markdown",
      "metadata": {
        "id": "e45595ff"
      },
      "source": [
        "# **Data Augmentation**\n"
      ],
      "id": "e45595ff"
    },
    {
      "cell_type": "code",
      "execution_count": null,
      "metadata": {
        "id": "1043930a"
      },
      "outputs": [],
      "source": [
        "import tensorflow as tf\n",
        "from keras.preprocessing.image import ImageDataGenerator, img_to_array"
      ],
      "id": "1043930a"
    },
    {
      "cell_type": "code",
      "execution_count": null,
      "metadata": {
        "id": "02e7a7d4",
        "outputId": "e22a739c-8654-44eb-87d1-dab7f170e3ab",
        "colab": {
          "base_uri": "https://localhost:8080/"
        }
      },
      "outputs": [
        {
          "output_type": "stream",
          "name": "stdout",
          "text": [
            "/content/drive/My Drive/Lab_project/data/augmented/arrhythmia/\n",
            "453\n",
            "batch size for arrhythmia category is 4\n",
            "/content/drive/My Drive/Lab_project/data/raw_data/arrhythmia/processed/plot146.png\n",
            "/content/drive/My Drive/Lab_project/data/raw_data/arrhythmia/processed/plot126.png\n",
            "/content/drive/My Drive/Lab_project/data/raw_data/arrhythmia/processed/plot121.png\n",
            "/content/drive/My Drive/Lab_project/data/raw_data/arrhythmia/processed/plot114.png\n",
            "/content/drive/My Drive/Lab_project/data/raw_data/arrhythmia/processed/plot120.png\n",
            "/content/drive/My Drive/Lab_project/data/raw_data/arrhythmia/processed/plot12.png\n",
            "/content/drive/My Drive/Lab_project/data/raw_data/arrhythmia/processed/plot119.png\n",
            "/content/drive/My Drive/Lab_project/data/raw_data/arrhythmia/processed/plot118.png\n",
            "/content/drive/My Drive/Lab_project/data/raw_data/arrhythmia/processed/plot116.png\n",
            "/content/drive/My Drive/Lab_project/data/raw_data/arrhythmia/processed/plot117.png\n",
            "/content/drive/My Drive/Lab_project/data/raw_data/arrhythmia/processed/plot135.png\n",
            "/content/drive/My Drive/Lab_project/data/raw_data/arrhythmia/processed/plot125.png\n",
            "/content/drive/My Drive/Lab_project/data/raw_data/arrhythmia/processed/plot131.png\n",
            "/content/drive/My Drive/Lab_project/data/raw_data/arrhythmia/processed/plot130.png\n",
            "/content/drive/My Drive/Lab_project/data/raw_data/arrhythmia/processed/plot127.png\n",
            "/content/drive/My Drive/Lab_project/data/raw_data/arrhythmia/processed/plot133.png\n",
            "/content/drive/My Drive/Lab_project/data/raw_data/arrhythmia/processed/plot128.png\n",
            "/content/drive/My Drive/Lab_project/data/raw_data/arrhythmia/processed/plot129.png\n",
            "/content/drive/My Drive/Lab_project/data/raw_data/arrhythmia/processed/plot13.png\n",
            "/content/drive/My Drive/Lab_project/data/raw_data/arrhythmia/processed/plot132.png\n",
            "/content/drive/My Drive/Lab_project/data/raw_data/arrhythmia/processed/plot124.png\n",
            "/content/drive/My Drive/Lab_project/data/raw_data/arrhythmia/processed/plot113.png\n",
            "/content/drive/My Drive/Lab_project/data/raw_data/arrhythmia/processed/plot134.png\n",
            "/content/drive/My Drive/Lab_project/data/raw_data/arrhythmia/processed/plot112.png\n",
            "/content/drive/My Drive/Lab_project/data/raw_data/arrhythmia/processed/plot123.png\n",
            "/content/drive/My Drive/Lab_project/data/raw_data/arrhythmia/processed/plot11.png\n",
            "/content/drive/My Drive/Lab_project/data/raw_data/arrhythmia/processed/plot108.png\n",
            "/content/drive/My Drive/Lab_project/data/raw_data/arrhythmia/processed/plot109.png\n",
            "/content/drive/My Drive/Lab_project/data/raw_data/arrhythmia/processed/plot107.png\n",
            "/content/drive/My Drive/Lab_project/data/raw_data/arrhythmia/processed/plot105.png\n",
            "/content/drive/My Drive/Lab_project/data/raw_data/arrhythmia/processed/plot106.png\n",
            "/content/drive/My Drive/Lab_project/data/raw_data/arrhythmia/processed/plot104.png\n",
            "/content/drive/My Drive/Lab_project/data/raw_data/arrhythmia/processed/plot122.png\n",
            "/content/drive/My Drive/Lab_project/data/raw_data/arrhythmia/processed/plot110.png\n",
            "/content/drive/My Drive/Lab_project/data/raw_data/arrhythmia/processed/plot115.png\n",
            "/content/drive/My Drive/Lab_project/data/raw_data/arrhythmia/processed/plot111.png\n",
            "/content/drive/My Drive/Lab_project/data/raw_data/arrhythmia/processed/plot103.png\n",
            "/content/drive/My Drive/Lab_project/data/raw_data/arrhythmia/processed/plot101.png\n",
            "/content/drive/My Drive/Lab_project/data/raw_data/arrhythmia/processed/plot10.png\n",
            "/content/drive/My Drive/Lab_project/data/raw_data/arrhythmia/processed/plot1.png\n",
            "/content/drive/My Drive/Lab_project/data/raw_data/arrhythmia/processed/plot0.png\n",
            "/content/drive/My Drive/Lab_project/data/raw_data/arrhythmia/processed/plot102.png\n",
            "/content/drive/My Drive/Lab_project/data/raw_data/arrhythmia/processed/plot100.png\n",
            "/content/drive/My Drive/Lab_project/data/raw_data/arrhythmia/processed/plot222.png\n",
            "/content/drive/My Drive/Lab_project/data/raw_data/arrhythmia/processed/plot21.png\n",
            "/content/drive/My Drive/Lab_project/data/raw_data/arrhythmia/processed/plot209.png\n",
            "/content/drive/My Drive/Lab_project/data/raw_data/arrhythmia/processed/plot221.png\n",
            "/content/drive/My Drive/Lab_project/data/raw_data/arrhythmia/processed/plot220.png\n",
            "/content/drive/My Drive/Lab_project/data/raw_data/arrhythmia/processed/plot22.png\n",
            "/content/drive/My Drive/Lab_project/data/raw_data/arrhythmia/processed/plot215.png\n",
            "/content/drive/My Drive/Lab_project/data/raw_data/arrhythmia/processed/plot219.png\n",
            "/content/drive/My Drive/Lab_project/data/raw_data/arrhythmia/processed/plot214.png\n",
            "/content/drive/My Drive/Lab_project/data/raw_data/arrhythmia/processed/plot216.png\n",
            "/content/drive/My Drive/Lab_project/data/raw_data/arrhythmia/processed/plot218.png\n",
            "/content/drive/My Drive/Lab_project/data/raw_data/arrhythmia/processed/plot217.png\n",
            "/content/drive/My Drive/Lab_project/data/raw_data/arrhythmia/processed/plot211.png\n",
            "/content/drive/My Drive/Lab_project/data/raw_data/arrhythmia/processed/plot212.png\n",
            "/content/drive/My Drive/Lab_project/data/raw_data/arrhythmia/processed/plot207.png\n",
            "/content/drive/My Drive/Lab_project/data/raw_data/arrhythmia/processed/plot208.png\n",
            "/content/drive/My Drive/Lab_project/data/raw_data/arrhythmia/processed/plot206.png\n",
            "/content/drive/My Drive/Lab_project/data/raw_data/arrhythmia/processed/plot205.png\n",
            "/content/drive/My Drive/Lab_project/data/raw_data/arrhythmia/processed/plot203.png\n",
            "/content/drive/My Drive/Lab_project/data/raw_data/arrhythmia/processed/plot204.png\n",
            "/content/drive/My Drive/Lab_project/data/raw_data/arrhythmia/processed/plot213.png\n",
            "/content/drive/My Drive/Lab_project/data/raw_data/arrhythmia/processed/plot210.png\n",
            "/content/drive/My Drive/Lab_project/data/raw_data/arrhythmia/processed/plot202.png\n",
            "/content/drive/My Drive/Lab_project/data/raw_data/arrhythmia/processed/plot201.png\n",
            "/content/drive/My Drive/Lab_project/data/raw_data/arrhythmia/processed/plot199.png\n",
            "/content/drive/My Drive/Lab_project/data/raw_data/arrhythmia/processed/plot200.png\n",
            "/content/drive/My Drive/Lab_project/data/raw_data/arrhythmia/processed/plot2.png\n",
            "/content/drive/My Drive/Lab_project/data/raw_data/arrhythmia/processed/plot194.png\n",
            "/content/drive/My Drive/Lab_project/data/raw_data/arrhythmia/processed/plot197.png\n",
            "/content/drive/My Drive/Lab_project/data/raw_data/arrhythmia/processed/plot198.png\n",
            "/content/drive/My Drive/Lab_project/data/raw_data/arrhythmia/processed/plot196.png\n",
            "/content/drive/My Drive/Lab_project/data/raw_data/arrhythmia/processed/plot192.png\n",
            "/content/drive/My Drive/Lab_project/data/raw_data/arrhythmia/processed/plot195.png\n",
            "/content/drive/My Drive/Lab_project/data/raw_data/arrhythmia/processed/plot193.png\n",
            "/content/drive/My Drive/Lab_project/data/raw_data/arrhythmia/processed/plot20.png\n",
            "/content/drive/My Drive/Lab_project/data/raw_data/arrhythmia/processed/plot19.png\n",
            "/content/drive/My Drive/Lab_project/data/raw_data/arrhythmia/processed/plot191.png\n",
            "/content/drive/My Drive/Lab_project/data/raw_data/arrhythmia/processed/plot180.png\n",
            "/content/drive/My Drive/Lab_project/data/raw_data/arrhythmia/processed/plot190.png\n",
            "/content/drive/My Drive/Lab_project/data/raw_data/arrhythmia/processed/plot189.png\n",
            "/content/drive/My Drive/Lab_project/data/raw_data/arrhythmia/processed/plot179.png\n",
            "/content/drive/My Drive/Lab_project/data/raw_data/arrhythmia/processed/plot17.png\n",
            "/content/drive/My Drive/Lab_project/data/raw_data/arrhythmia/processed/plot188.png\n",
            "/content/drive/My Drive/Lab_project/data/raw_data/arrhythmia/processed/plot182.png\n",
            "/content/drive/My Drive/Lab_project/data/raw_data/arrhythmia/processed/plot18.png\n",
            "/content/drive/My Drive/Lab_project/data/raw_data/arrhythmia/processed/plot186.png\n",
            "/content/drive/My Drive/Lab_project/data/raw_data/arrhythmia/processed/plot187.png\n",
            "/content/drive/My Drive/Lab_project/data/raw_data/arrhythmia/processed/plot185.png\n",
            "/content/drive/My Drive/Lab_project/data/raw_data/arrhythmia/processed/plot181.png\n",
            "/content/drive/My Drive/Lab_project/data/raw_data/arrhythmia/processed/plot184.png\n",
            "/content/drive/My Drive/Lab_project/data/raw_data/arrhythmia/processed/plot183.png\n",
            "/content/drive/My Drive/Lab_project/data/raw_data/arrhythmia/processed/plot177.png\n",
            "/content/drive/My Drive/Lab_project/data/raw_data/arrhythmia/processed/plot176.png\n",
            "/content/drive/My Drive/Lab_project/data/raw_data/arrhythmia/processed/plot178.png\n",
            "/content/drive/My Drive/Lab_project/data/raw_data/arrhythmia/processed/plot167.png\n",
            "/content/drive/My Drive/Lab_project/data/raw_data/arrhythmia/processed/plot168.png\n",
            "/content/drive/My Drive/Lab_project/data/raw_data/arrhythmia/processed/plot174.png\n",
            "/content/drive/My Drive/Lab_project/data/raw_data/arrhythmia/processed/plot175.png\n",
            "/content/drive/My Drive/Lab_project/data/raw_data/arrhythmia/processed/plot173.png\n",
            "/content/drive/My Drive/Lab_project/data/raw_data/arrhythmia/processed/plot170.png\n",
            "/content/drive/My Drive/Lab_project/data/raw_data/arrhythmia/processed/plot172.png\n",
            "/content/drive/My Drive/Lab_project/data/raw_data/arrhythmia/processed/plot171.png\n",
            "/content/drive/My Drive/Lab_project/data/raw_data/arrhythmia/processed/plot169.png\n",
            "/content/drive/My Drive/Lab_project/data/raw_data/arrhythmia/processed/plot166.png\n",
            "/content/drive/My Drive/Lab_project/data/raw_data/arrhythmia/processed/plot160.png\n",
            "/content/drive/My Drive/Lab_project/data/raw_data/arrhythmia/processed/plot161.png\n",
            "/content/drive/My Drive/Lab_project/data/raw_data/arrhythmia/processed/plot16.png\n",
            "/content/drive/My Drive/Lab_project/data/raw_data/arrhythmia/processed/plot165.png\n",
            "/content/drive/My Drive/Lab_project/data/raw_data/arrhythmia/processed/plot162.png\n",
            "/content/drive/My Drive/Lab_project/data/raw_data/arrhythmia/processed/plot163.png\n",
            "/content/drive/My Drive/Lab_project/data/raw_data/arrhythmia/processed/plot164.png\n",
            "/content/drive/My Drive/Lab_project/data/raw_data/arrhythmia/processed/plot158.png\n",
            "/content/drive/My Drive/Lab_project/data/raw_data/arrhythmia/processed/plot155.png\n",
            "/content/drive/My Drive/Lab_project/data/raw_data/arrhythmia/processed/plot149.png\n",
            "/content/drive/My Drive/Lab_project/data/raw_data/arrhythmia/processed/plot154.png\n",
            "/content/drive/My Drive/Lab_project/data/raw_data/arrhythmia/processed/plot153.png\n",
            "/content/drive/My Drive/Lab_project/data/raw_data/arrhythmia/processed/plot152.png\n",
            "/content/drive/My Drive/Lab_project/data/raw_data/arrhythmia/processed/plot150.png\n",
            "/content/drive/My Drive/Lab_project/data/raw_data/arrhythmia/processed/plot151.png\n",
            "/content/drive/My Drive/Lab_project/data/raw_data/arrhythmia/processed/plot15.png\n",
            "/content/drive/My Drive/Lab_project/data/raw_data/arrhythmia/processed/plot148.png\n",
            "/content/drive/My Drive/Lab_project/data/raw_data/arrhythmia/processed/plot159.png\n",
            "/content/drive/My Drive/Lab_project/data/raw_data/arrhythmia/processed/plot156.png\n",
            "/content/drive/My Drive/Lab_project/data/raw_data/arrhythmia/processed/plot145.png\n",
            "/content/drive/My Drive/Lab_project/data/raw_data/arrhythmia/processed/plot157.png\n",
            "/content/drive/My Drive/Lab_project/data/raw_data/arrhythmia/processed/plot143.png\n",
            "/content/drive/My Drive/Lab_project/data/raw_data/arrhythmia/processed/plot138.png\n",
            "/content/drive/My Drive/Lab_project/data/raw_data/arrhythmia/processed/plot144.png\n",
            "/content/drive/My Drive/Lab_project/data/raw_data/arrhythmia/processed/plot142.png\n",
            "/content/drive/My Drive/Lab_project/data/raw_data/arrhythmia/processed/plot141.png\n",
            "/content/drive/My Drive/Lab_project/data/raw_data/arrhythmia/processed/plot136.png\n",
            "/content/drive/My Drive/Lab_project/data/raw_data/arrhythmia/processed/plot140.png\n",
            "/content/drive/My Drive/Lab_project/data/raw_data/arrhythmia/processed/plot14.png\n",
            "/content/drive/My Drive/Lab_project/data/raw_data/arrhythmia/processed/plot139.png\n",
            "/content/drive/My Drive/Lab_project/data/raw_data/arrhythmia/processed/plot137.png\n",
            "/content/drive/My Drive/Lab_project/data/raw_data/arrhythmia/processed/plot147.png\n",
            "/content/drive/My Drive/Lab_project/data/raw_data/arrhythmia/processed/plot30.png\n",
            "/content/drive/My Drive/Lab_project/data/raw_data/arrhythmia/processed/plot29.png\n",
            "/content/drive/My Drive/Lab_project/data/raw_data/arrhythmia/processed/plot288.png\n",
            "/content/drive/My Drive/Lab_project/data/raw_data/arrhythmia/processed/plot287.png\n",
            "/content/drive/My Drive/Lab_project/data/raw_data/arrhythmia/processed/plot281.png\n",
            "/content/drive/My Drive/Lab_project/data/raw_data/arrhythmia/processed/plot284.png\n",
            "/content/drive/My Drive/Lab_project/data/raw_data/arrhythmia/processed/plot282.png\n",
            "/content/drive/My Drive/Lab_project/data/raw_data/arrhythmia/processed/plot286.png\n",
            "/content/drive/My Drive/Lab_project/data/raw_data/arrhythmia/processed/plot285.png\n",
            "/content/drive/My Drive/Lab_project/data/raw_data/arrhythmia/processed/plot283.png\n",
            "/content/drive/My Drive/Lab_project/data/raw_data/arrhythmia/processed/plot278.png\n",
            "/content/drive/My Drive/Lab_project/data/raw_data/arrhythmia/processed/plot276.png\n",
            "/content/drive/My Drive/Lab_project/data/raw_data/arrhythmia/processed/plot269.png\n",
            "/content/drive/My Drive/Lab_project/data/raw_data/arrhythmia/processed/plot274.png\n",
            "/content/drive/My Drive/Lab_project/data/raw_data/arrhythmia/processed/plot27.png\n",
            "/content/drive/My Drive/Lab_project/data/raw_data/arrhythmia/processed/plot275.png\n",
            "/content/drive/My Drive/Lab_project/data/raw_data/arrhythmia/processed/plot273.png\n",
            "/content/drive/My Drive/Lab_project/data/raw_data/arrhythmia/processed/plot272.png\n",
            "/content/drive/My Drive/Lab_project/data/raw_data/arrhythmia/processed/plot271.png\n",
            "/content/drive/My Drive/Lab_project/data/raw_data/arrhythmia/processed/plot280.png\n",
            "/content/drive/My Drive/Lab_project/data/raw_data/arrhythmia/processed/plot289.png\n",
            "/content/drive/My Drive/Lab_project/data/raw_data/arrhythmia/processed/plot28.png\n",
            "/content/drive/My Drive/Lab_project/data/raw_data/arrhythmia/processed/plot279.png\n",
            "/content/drive/My Drive/Lab_project/data/raw_data/arrhythmia/processed/plot270.png\n",
            "/content/drive/My Drive/Lab_project/data/raw_data/arrhythmia/processed/plot26.png\n",
            "/content/drive/My Drive/Lab_project/data/raw_data/arrhythmia/processed/plot262.png\n",
            "/content/drive/My Drive/Lab_project/data/raw_data/arrhythmia/processed/plot265.png\n",
            "/content/drive/My Drive/Lab_project/data/raw_data/arrhythmia/processed/plot263.png\n",
            "/content/drive/My Drive/Lab_project/data/raw_data/arrhythmia/processed/plot258.png\n",
            "/content/drive/My Drive/Lab_project/data/raw_data/arrhythmia/processed/plot260.png\n",
            "/content/drive/My Drive/Lab_project/data/raw_data/arrhythmia/processed/plot264.png\n",
            "/content/drive/My Drive/Lab_project/data/raw_data/arrhythmia/processed/plot261.png\n",
            "/content/drive/My Drive/Lab_project/data/raw_data/arrhythmia/processed/plot277.png\n",
            "/content/drive/My Drive/Lab_project/data/raw_data/arrhythmia/processed/plot267.png\n",
            "/content/drive/My Drive/Lab_project/data/raw_data/arrhythmia/processed/plot266.png\n",
            "/content/drive/My Drive/Lab_project/data/raw_data/arrhythmia/processed/plot259.png\n",
            "/content/drive/My Drive/Lab_project/data/raw_data/arrhythmia/processed/plot257.png\n",
            "/content/drive/My Drive/Lab_project/data/raw_data/arrhythmia/processed/plot268.png\n",
            "/content/drive/My Drive/Lab_project/data/raw_data/arrhythmia/processed/plot256.png\n",
            "/content/drive/My Drive/Lab_project/data/raw_data/arrhythmia/processed/plot247.png\n",
            "/content/drive/My Drive/Lab_project/data/raw_data/arrhythmia/processed/plot252.png\n",
            "/content/drive/My Drive/Lab_project/data/raw_data/arrhythmia/processed/plot254.png\n",
            "/content/drive/My Drive/Lab_project/data/raw_data/arrhythmia/processed/plot251.png\n",
            "/content/drive/My Drive/Lab_project/data/raw_data/arrhythmia/processed/plot25.png\n",
            "/content/drive/My Drive/Lab_project/data/raw_data/arrhythmia/processed/plot249.png\n",
            "/content/drive/My Drive/Lab_project/data/raw_data/arrhythmia/processed/plot250.png\n",
            "/content/drive/My Drive/Lab_project/data/raw_data/arrhythmia/processed/plot253.png\n",
            "/content/drive/My Drive/Lab_project/data/raw_data/arrhythmia/processed/plot255.png\n",
            "/content/drive/My Drive/Lab_project/data/raw_data/arrhythmia/processed/plot246.png\n",
            "/content/drive/My Drive/Lab_project/data/raw_data/arrhythmia/processed/plot243.png\n",
            "/content/drive/My Drive/Lab_project/data/raw_data/arrhythmia/processed/plot242.png\n",
            "/content/drive/My Drive/Lab_project/data/raw_data/arrhythmia/processed/plot241.png\n",
            "/content/drive/My Drive/Lab_project/data/raw_data/arrhythmia/processed/plot240.png\n",
            "/content/drive/My Drive/Lab_project/data/raw_data/arrhythmia/processed/plot24.png\n",
            "/content/drive/My Drive/Lab_project/data/raw_data/arrhythmia/processed/plot236.png\n",
            "/content/drive/My Drive/Lab_project/data/raw_data/arrhythmia/processed/plot239.png\n",
            "/content/drive/My Drive/Lab_project/data/raw_data/arrhythmia/processed/plot238.png\n",
            "/content/drive/My Drive/Lab_project/data/raw_data/arrhythmia/processed/plot248.png\n",
            "/content/drive/My Drive/Lab_project/data/raw_data/arrhythmia/processed/plot245.png\n",
            "/content/drive/My Drive/Lab_project/data/raw_data/arrhythmia/processed/plot244.png\n",
            "/content/drive/My Drive/Lab_project/data/raw_data/arrhythmia/processed/plot230.png\n",
            "/content/drive/My Drive/Lab_project/data/raw_data/arrhythmia/processed/plot229.png\n",
            "/content/drive/My Drive/Lab_project/data/raw_data/arrhythmia/processed/plot224.png\n",
            "/content/drive/My Drive/Lab_project/data/raw_data/arrhythmia/processed/plot226.png\n",
            "/content/drive/My Drive/Lab_project/data/raw_data/arrhythmia/processed/plot225.png\n",
            "/content/drive/My Drive/Lab_project/data/raw_data/arrhythmia/processed/plot23.png\n",
            "/content/drive/My Drive/Lab_project/data/raw_data/arrhythmia/processed/plot227.png\n",
            "/content/drive/My Drive/Lab_project/data/raw_data/arrhythmia/processed/plot234.png\n",
            "/content/drive/My Drive/Lab_project/data/raw_data/arrhythmia/processed/plot237.png\n",
            "/content/drive/My Drive/Lab_project/data/raw_data/arrhythmia/processed/plot235.png\n",
            "/content/drive/My Drive/Lab_project/data/raw_data/arrhythmia/processed/plot231.png\n",
            "/content/drive/My Drive/Lab_project/data/raw_data/arrhythmia/processed/plot233.png\n",
            "/content/drive/My Drive/Lab_project/data/raw_data/arrhythmia/processed/plot223.png\n",
            "/content/drive/My Drive/Lab_project/data/raw_data/arrhythmia/processed/plot232.png\n",
            "/content/drive/My Drive/Lab_project/data/raw_data/arrhythmia/processed/plot228.png\n",
            "/content/drive/My Drive/Lab_project/data/raw_data/arrhythmia/processed/plot366.png\n",
            "/content/drive/My Drive/Lab_project/data/raw_data/arrhythmia/processed/plot367.png\n",
            "/content/drive/My Drive/Lab_project/data/raw_data/arrhythmia/processed/plot358.png\n",
            "/content/drive/My Drive/Lab_project/data/raw_data/arrhythmia/processed/plot364.png\n",
            "/content/drive/My Drive/Lab_project/data/raw_data/arrhythmia/processed/plot363.png\n",
            "/content/drive/My Drive/Lab_project/data/raw_data/arrhythmia/processed/plot362.png\n",
            "/content/drive/My Drive/Lab_project/data/raw_data/arrhythmia/processed/plot361.png\n",
            "/content/drive/My Drive/Lab_project/data/raw_data/arrhythmia/processed/plot359.png\n",
            "/content/drive/My Drive/Lab_project/data/raw_data/arrhythmia/processed/plot36.png\n",
            "/content/drive/My Drive/Lab_project/data/raw_data/arrhythmia/processed/plot360.png\n",
            "/content/drive/My Drive/Lab_project/data/raw_data/arrhythmia/processed/plot355.png\n",
            "/content/drive/My Drive/Lab_project/data/raw_data/arrhythmia/processed/plot354.png\n",
            "/content/drive/My Drive/Lab_project/data/raw_data/arrhythmia/processed/plot352.png\n",
            "/content/drive/My Drive/Lab_project/data/raw_data/arrhythmia/processed/plot353.png\n",
            "/content/drive/My Drive/Lab_project/data/raw_data/arrhythmia/processed/plot351.png\n",
            "/content/drive/My Drive/Lab_project/data/raw_data/arrhythmia/processed/plot349.png\n",
            "/content/drive/My Drive/Lab_project/data/raw_data/arrhythmia/processed/plot350.png\n",
            "/content/drive/My Drive/Lab_project/data/raw_data/arrhythmia/processed/plot35.png\n",
            "/content/drive/My Drive/Lab_project/data/raw_data/arrhythmia/processed/plot345.png\n",
            "/content/drive/My Drive/Lab_project/data/raw_data/arrhythmia/processed/plot346.png\n",
            "/content/drive/My Drive/Lab_project/data/raw_data/arrhythmia/processed/plot357.png\n",
            "/content/drive/My Drive/Lab_project/data/raw_data/arrhythmia/processed/plot341.png\n",
            "/content/drive/My Drive/Lab_project/data/raw_data/arrhythmia/processed/plot344.png\n",
            "/content/drive/My Drive/Lab_project/data/raw_data/arrhythmia/processed/plot34.png\n",
            "/content/drive/My Drive/Lab_project/data/raw_data/arrhythmia/processed/plot342.png\n",
            "/content/drive/My Drive/Lab_project/data/raw_data/arrhythmia/processed/plot343.png\n",
            "/content/drive/My Drive/Lab_project/data/raw_data/arrhythmia/processed/plot347.png\n",
            "/content/drive/My Drive/Lab_project/data/raw_data/arrhythmia/processed/plot348.png\n",
            "/content/drive/My Drive/Lab_project/data/raw_data/arrhythmia/processed/plot356.png\n",
            "/content/drive/My Drive/Lab_project/data/raw_data/arrhythmia/processed/plot339.png\n",
            "/content/drive/My Drive/Lab_project/data/raw_data/arrhythmia/processed/plot336.png\n",
            "/content/drive/My Drive/Lab_project/data/raw_data/arrhythmia/processed/plot333.png\n",
            "/content/drive/My Drive/Lab_project/data/raw_data/arrhythmia/processed/plot340.png\n",
            "/content/drive/My Drive/Lab_project/data/raw_data/arrhythmia/processed/plot337.png\n",
            "/content/drive/My Drive/Lab_project/data/raw_data/arrhythmia/processed/plot338.png\n",
            "/content/drive/My Drive/Lab_project/data/raw_data/arrhythmia/processed/plot335.png\n",
            "/content/drive/My Drive/Lab_project/data/raw_data/arrhythmia/processed/plot334.png\n",
            "/content/drive/My Drive/Lab_project/data/raw_data/arrhythmia/processed/plot328.png\n",
            "/content/drive/My Drive/Lab_project/data/raw_data/arrhythmia/processed/plot332.png\n",
            "/content/drive/My Drive/Lab_project/data/raw_data/arrhythmia/processed/plot331.png\n",
            "/content/drive/My Drive/Lab_project/data/raw_data/arrhythmia/processed/plot330.png\n",
            "/content/drive/My Drive/Lab_project/data/raw_data/arrhythmia/processed/plot329.png\n",
            "/content/drive/My Drive/Lab_project/data/raw_data/arrhythmia/processed/plot33.png\n",
            "/content/drive/My Drive/Lab_project/data/raw_data/arrhythmia/processed/plot327.png\n",
            "/content/drive/My Drive/Lab_project/data/raw_data/arrhythmia/processed/plot325.png\n",
            "/content/drive/My Drive/Lab_project/data/raw_data/arrhythmia/processed/plot326.png\n",
            "/content/drive/My Drive/Lab_project/data/raw_data/arrhythmia/processed/plot320.png\n",
            "/content/drive/My Drive/Lab_project/data/raw_data/arrhythmia/processed/plot316.png\n",
            "/content/drive/My Drive/Lab_project/data/raw_data/arrhythmia/processed/plot32.png\n",
            "/content/drive/My Drive/Lab_project/data/raw_data/arrhythmia/processed/plot319.png\n",
            "/content/drive/My Drive/Lab_project/data/raw_data/arrhythmia/processed/plot317.png\n",
            "/content/drive/My Drive/Lab_project/data/raw_data/arrhythmia/processed/plot315.png\n",
            "/content/drive/My Drive/Lab_project/data/raw_data/arrhythmia/processed/plot318.png\n",
            "/content/drive/My Drive/Lab_project/data/raw_data/arrhythmia/processed/plot324.png\n",
            "/content/drive/My Drive/Lab_project/data/raw_data/arrhythmia/processed/plot321.png\n",
            "/content/drive/My Drive/Lab_project/data/raw_data/arrhythmia/processed/plot323.png\n",
            "/content/drive/My Drive/Lab_project/data/raw_data/arrhythmia/processed/plot322.png\n",
            "/content/drive/My Drive/Lab_project/data/raw_data/arrhythmia/processed/plot314.png\n",
            "/content/drive/My Drive/Lab_project/data/raw_data/arrhythmia/processed/plot309.png\n",
            "/content/drive/My Drive/Lab_project/data/raw_data/arrhythmia/processed/plot31.png\n",
            "/content/drive/My Drive/Lab_project/data/raw_data/arrhythmia/processed/plot307.png\n",
            "/content/drive/My Drive/Lab_project/data/raw_data/arrhythmia/processed/plot308.png\n",
            "/content/drive/My Drive/Lab_project/data/raw_data/arrhythmia/processed/plot304.png\n",
            "/content/drive/My Drive/Lab_project/data/raw_data/arrhythmia/processed/plot302.png\n",
            "/content/drive/My Drive/Lab_project/data/raw_data/arrhythmia/processed/plot306.png\n",
            "/content/drive/My Drive/Lab_project/data/raw_data/arrhythmia/processed/plot305.png\n",
            "/content/drive/My Drive/Lab_project/data/raw_data/arrhythmia/processed/plot312.png\n",
            "/content/drive/My Drive/Lab_project/data/raw_data/arrhythmia/processed/plot313.png\n",
            "/content/drive/My Drive/Lab_project/data/raw_data/arrhythmia/processed/plot310.png\n",
            "/content/drive/My Drive/Lab_project/data/raw_data/arrhythmia/processed/plot311.png\n",
            "/content/drive/My Drive/Lab_project/data/raw_data/arrhythmia/processed/plot301.png\n",
            "/content/drive/My Drive/Lab_project/data/raw_data/arrhythmia/processed/plot303.png\n",
            "/content/drive/My Drive/Lab_project/data/raw_data/arrhythmia/processed/plot297.png\n",
            "/content/drive/My Drive/Lab_project/data/raw_data/arrhythmia/processed/plot291.png\n",
            "/content/drive/My Drive/Lab_project/data/raw_data/arrhythmia/processed/plot299.png\n",
            "/content/drive/My Drive/Lab_project/data/raw_data/arrhythmia/processed/plot298.png\n",
            "/content/drive/My Drive/Lab_project/data/raw_data/arrhythmia/processed/plot296.png\n",
            "/content/drive/My Drive/Lab_project/data/raw_data/arrhythmia/processed/plot295.png\n",
            "/content/drive/My Drive/Lab_project/data/raw_data/arrhythmia/processed/plot294.png\n",
            "/content/drive/My Drive/Lab_project/data/raw_data/arrhythmia/processed/plot293.png\n",
            "/content/drive/My Drive/Lab_project/data/raw_data/arrhythmia/processed/plot292.png\n",
            "/content/drive/My Drive/Lab_project/data/raw_data/arrhythmia/processed/plot3.png\n",
            "/content/drive/My Drive/Lab_project/data/raw_data/arrhythmia/processed/plot290.png\n",
            "/content/drive/My Drive/Lab_project/data/raw_data/arrhythmia/processed/plot300.png\n",
            "/content/drive/My Drive/Lab_project/data/raw_data/arrhythmia/processed/plot423.png\n",
            "/content/drive/My Drive/Lab_project/data/raw_data/arrhythmia/processed/plot442.png\n",
            "/content/drive/My Drive/Lab_project/data/raw_data/arrhythmia/processed/plot430.png\n",
            "/content/drive/My Drive/Lab_project/data/raw_data/arrhythmia/processed/plot43.png\n",
            "/content/drive/My Drive/Lab_project/data/raw_data/arrhythmia/processed/plot429.png\n",
            "/content/drive/My Drive/Lab_project/data/raw_data/arrhythmia/processed/plot428.png\n",
            "/content/drive/My Drive/Lab_project/data/raw_data/arrhythmia/processed/plot427.png\n",
            "/content/drive/My Drive/Lab_project/data/raw_data/arrhythmia/processed/plot426.png\n",
            "/content/drive/My Drive/Lab_project/data/raw_data/arrhythmia/processed/plot425.png\n",
            "/content/drive/My Drive/Lab_project/data/raw_data/arrhythmia/processed/plot424.png\n",
            "/content/drive/My Drive/Lab_project/data/raw_data/arrhythmia/processed/plot434.png\n",
            "/content/drive/My Drive/Lab_project/data/raw_data/arrhythmia/processed/plot443.png\n",
            "/content/drive/My Drive/Lab_project/data/raw_data/arrhythmia/processed/plot433.png\n",
            "/content/drive/My Drive/Lab_project/data/raw_data/arrhythmia/processed/plot431.png\n",
            "/content/drive/My Drive/Lab_project/data/raw_data/arrhythmia/processed/plot432.png\n",
            "/content/drive/My Drive/Lab_project/data/raw_data/arrhythmia/processed/plot422.png\n",
            "/content/drive/My Drive/Lab_project/data/raw_data/arrhythmia/processed/plot421.png\n",
            "/content/drive/My Drive/Lab_project/data/raw_data/arrhythmia/processed/plot420.png\n",
            "/content/drive/My Drive/Lab_project/data/raw_data/arrhythmia/processed/plot419.png\n",
            "/content/drive/My Drive/Lab_project/data/raw_data/arrhythmia/processed/plot418.png\n",
            "/content/drive/My Drive/Lab_project/data/raw_data/arrhythmia/processed/plot416.png\n",
            "/content/drive/My Drive/Lab_project/data/raw_data/arrhythmia/processed/plot417.png\n",
            "/content/drive/My Drive/Lab_project/data/raw_data/arrhythmia/processed/plot415.png\n",
            "/content/drive/My Drive/Lab_project/data/raw_data/arrhythmia/processed/plot411.png\n",
            "/content/drive/My Drive/Lab_project/data/raw_data/arrhythmia/processed/plot414.png\n",
            "/content/drive/My Drive/Lab_project/data/raw_data/arrhythmia/processed/plot413.png\n",
            "/content/drive/My Drive/Lab_project/data/raw_data/arrhythmia/processed/plot409.png\n",
            "/content/drive/My Drive/Lab_project/data/raw_data/arrhythmia/processed/plot412.png\n",
            "/content/drive/My Drive/Lab_project/data/raw_data/arrhythmia/processed/plot41.png\n",
            "/content/drive/My Drive/Lab_project/data/raw_data/arrhythmia/processed/plot42.png\n",
            "/content/drive/My Drive/Lab_project/data/raw_data/arrhythmia/processed/plot410.png\n",
            "/content/drive/My Drive/Lab_project/data/raw_data/arrhythmia/processed/plot408.png\n",
            "/content/drive/My Drive/Lab_project/data/raw_data/arrhythmia/processed/plot407.png\n",
            "/content/drive/My Drive/Lab_project/data/raw_data/arrhythmia/processed/plot406.png\n",
            "/content/drive/My Drive/Lab_project/data/raw_data/arrhythmia/processed/plot400.png\n",
            "/content/drive/My Drive/Lab_project/data/raw_data/arrhythmia/processed/plot403.png\n",
            "/content/drive/My Drive/Lab_project/data/raw_data/arrhythmia/processed/plot401.png\n",
            "/content/drive/My Drive/Lab_project/data/raw_data/arrhythmia/processed/plot405.png\n",
            "/content/drive/My Drive/Lab_project/data/raw_data/arrhythmia/processed/plot402.png\n",
            "/content/drive/My Drive/Lab_project/data/raw_data/arrhythmia/processed/plot399.png\n",
            "/content/drive/My Drive/Lab_project/data/raw_data/arrhythmia/processed/plot398.png\n",
            "/content/drive/My Drive/Lab_project/data/raw_data/arrhythmia/processed/plot393.png\n",
            "/content/drive/My Drive/Lab_project/data/raw_data/arrhythmia/processed/plot397.png\n",
            "/content/drive/My Drive/Lab_project/data/raw_data/arrhythmia/processed/plot392.png\n",
            "/content/drive/My Drive/Lab_project/data/raw_data/arrhythmia/processed/plot395.png\n",
            "/content/drive/My Drive/Lab_project/data/raw_data/arrhythmia/processed/plot394.png\n",
            "/content/drive/My Drive/Lab_project/data/raw_data/arrhythmia/processed/plot396.png\n",
            "/content/drive/My Drive/Lab_project/data/raw_data/arrhythmia/processed/plot40.png\n",
            "/content/drive/My Drive/Lab_project/data/raw_data/arrhythmia/processed/plot404.png\n",
            "/content/drive/My Drive/Lab_project/data/raw_data/arrhythmia/processed/plot390.png\n",
            "/content/drive/My Drive/Lab_project/data/raw_data/arrhythmia/processed/plot386.png\n",
            "/content/drive/My Drive/Lab_project/data/raw_data/arrhythmia/processed/plot391.png\n",
            "/content/drive/My Drive/Lab_project/data/raw_data/arrhythmia/processed/plot4.png\n",
            "/content/drive/My Drive/Lab_project/data/raw_data/arrhythmia/processed/plot389.png\n",
            "/content/drive/My Drive/Lab_project/data/raw_data/arrhythmia/processed/plot39.png\n",
            "/content/drive/My Drive/Lab_project/data/raw_data/arrhythmia/processed/plot388.png\n",
            "/content/drive/My Drive/Lab_project/data/raw_data/arrhythmia/processed/plot385.png\n",
            "/content/drive/My Drive/Lab_project/data/raw_data/arrhythmia/processed/plot387.png\n",
            "/content/drive/My Drive/Lab_project/data/raw_data/arrhythmia/processed/plot384.png\n",
            "/content/drive/My Drive/Lab_project/data/raw_data/arrhythmia/processed/plot381.png\n",
            "/content/drive/My Drive/Lab_project/data/raw_data/arrhythmia/processed/plot382.png\n",
            "/content/drive/My Drive/Lab_project/data/raw_data/arrhythmia/processed/plot383.png\n",
            "/content/drive/My Drive/Lab_project/data/raw_data/arrhythmia/processed/plot38.png\n",
            "/content/drive/My Drive/Lab_project/data/raw_data/arrhythmia/processed/plot378.png\n",
            "/content/drive/My Drive/Lab_project/data/raw_data/arrhythmia/processed/plot380.png\n",
            "/content/drive/My Drive/Lab_project/data/raw_data/arrhythmia/processed/plot379.png\n",
            "/content/drive/My Drive/Lab_project/data/raw_data/arrhythmia/processed/plot374.png\n",
            "/content/drive/My Drive/Lab_project/data/raw_data/arrhythmia/processed/plot375.png\n",
            "/content/drive/My Drive/Lab_project/data/raw_data/arrhythmia/processed/plot373.png\n",
            "/content/drive/My Drive/Lab_project/data/raw_data/arrhythmia/processed/plot369.png\n",
            "/content/drive/My Drive/Lab_project/data/raw_data/arrhythmia/processed/plot370.png\n",
            "/content/drive/My Drive/Lab_project/data/raw_data/arrhythmia/processed/plot371.png\n",
            "/content/drive/My Drive/Lab_project/data/raw_data/arrhythmia/processed/plot372.png\n",
            "/content/drive/My Drive/Lab_project/data/raw_data/arrhythmia/processed/plot368.png\n",
            "/content/drive/My Drive/Lab_project/data/raw_data/arrhythmia/processed/plot376.png\n",
            "/content/drive/My Drive/Lab_project/data/raw_data/arrhythmia/processed/plot365.png\n",
            "/content/drive/My Drive/Lab_project/data/raw_data/arrhythmia/processed/plot377.png\n",
            "/content/drive/My Drive/Lab_project/data/raw_data/arrhythmia/processed/plot37.png\n",
            "/content/drive/My Drive/Lab_project/data/raw_data/arrhythmia/processed/plot57.png\n",
            "/content/drive/My Drive/Lab_project/data/raw_data/arrhythmia/processed/plot56.png\n",
            "/content/drive/My Drive/Lab_project/data/raw_data/arrhythmia/processed/plot52.png\n",
            "/content/drive/My Drive/Lab_project/data/raw_data/arrhythmia/processed/plot55.png\n",
            "/content/drive/My Drive/Lab_project/data/raw_data/arrhythmia/processed/plot53.png\n",
            "/content/drive/My Drive/Lab_project/data/raw_data/arrhythmia/processed/plot54.png\n",
            "/content/drive/My Drive/Lab_project/data/raw_data/arrhythmia/processed/plot50.png\n",
            "/content/drive/My Drive/Lab_project/data/raw_data/arrhythmia/processed/plot70.png\n",
            "/content/drive/My Drive/Lab_project/data/raw_data/arrhythmia/processed/plot58.png\n",
            "/content/drive/My Drive/Lab_project/data/raw_data/arrhythmia/processed/plot98.png\n",
            "/content/drive/My Drive/Lab_project/data/raw_data/arrhythmia/processed/plot91.png\n",
            "/content/drive/My Drive/Lab_project/data/raw_data/arrhythmia/processed/plot73.png\n",
            "/content/drive/My Drive/Lab_project/data/raw_data/arrhythmia/processed/plot67.png\n",
            "/content/drive/My Drive/Lab_project/data/raw_data/arrhythmia/processed/plot7.png\n",
            "/content/drive/My Drive/Lab_project/data/raw_data/arrhythmia/processed/plot62.png\n",
            "/content/drive/My Drive/Lab_project/data/raw_data/arrhythmia/processed/plot69.png\n",
            "/content/drive/My Drive/Lab_project/data/raw_data/arrhythmia/processed/plot68.png\n",
            "/content/drive/My Drive/Lab_project/data/raw_data/arrhythmia/processed/plot66.png\n",
            "/content/drive/My Drive/Lab_project/data/raw_data/arrhythmia/processed/plot64.png\n",
            "/content/drive/My Drive/Lab_project/data/raw_data/arrhythmia/processed/plot65.png\n",
            "/content/drive/My Drive/Lab_project/data/raw_data/arrhythmia/processed/plot79.png\n",
            "/content/drive/My Drive/Lab_project/data/raw_data/arrhythmia/processed/plot77.png\n",
            "/content/drive/My Drive/Lab_project/data/raw_data/arrhythmia/processed/plot78.png\n",
            "/content/drive/My Drive/Lab_project/data/raw_data/arrhythmia/processed/plot76.png\n",
            "/content/drive/My Drive/Lab_project/data/raw_data/arrhythmia/processed/plot74.png\n",
            "/content/drive/My Drive/Lab_project/data/raw_data/arrhythmia/processed/plot72.png\n",
            "/content/drive/My Drive/Lab_project/data/raw_data/arrhythmia/processed/plot80.png\n",
            "/content/drive/My Drive/Lab_project/data/raw_data/arrhythmia/processed/plot71.png\n",
            "/content/drive/My Drive/Lab_project/data/raw_data/arrhythmia/processed/plot60.png\n",
            "/content/drive/My Drive/Lab_project/data/raw_data/arrhythmia/processed/plot63.png\n",
            "/content/drive/My Drive/Lab_project/data/raw_data/arrhythmia/processed/plot61.png\n",
            "/content/drive/My Drive/Lab_project/data/raw_data/arrhythmia/processed/plot5.png\n",
            "/content/drive/My Drive/Lab_project/data/raw_data/arrhythmia/processed/plot59.png\n",
            "/content/drive/My Drive/Lab_project/data/raw_data/arrhythmia/processed/plot49.png\n",
            "/content/drive/My Drive/Lab_project/data/raw_data/arrhythmia/processed/plot6.png\n",
            "/content/drive/My Drive/Lab_project/data/raw_data/arrhythmia/processed/plot51.png\n",
            "/content/drive/My Drive/Lab_project/data/raw_data/arrhythmia/processed/plot450.png\n",
            "/content/drive/My Drive/Lab_project/data/raw_data/arrhythmia/processed/plot45.png\n",
            "/content/drive/My Drive/Lab_project/data/raw_data/arrhythmia/processed/plot449.png\n",
            "/content/drive/My Drive/Lab_project/data/raw_data/arrhythmia/processed/plot448.png\n",
            "/content/drive/My Drive/Lab_project/data/raw_data/arrhythmia/processed/plot447.png\n",
            "/content/drive/My Drive/Lab_project/data/raw_data/arrhythmia/processed/plot46.png\n",
            "/content/drive/My Drive/Lab_project/data/raw_data/arrhythmia/processed/plot47.png\n",
            "/content/drive/My Drive/Lab_project/data/raw_data/arrhythmia/processed/plot451.png\n",
            "/content/drive/My Drive/Lab_project/data/raw_data/arrhythmia/processed/plot445.png\n",
            "/content/drive/My Drive/Lab_project/data/raw_data/arrhythmia/processed/plot441.png\n",
            "/content/drive/My Drive/Lab_project/data/raw_data/arrhythmia/processed/plot446.png\n",
            "/content/drive/My Drive/Lab_project/data/raw_data/arrhythmia/processed/plot440.png\n",
            "/content/drive/My Drive/Lab_project/data/raw_data/arrhythmia/processed/plot44.png\n",
            "/content/drive/My Drive/Lab_project/data/raw_data/arrhythmia/processed/plot439.png\n",
            "/content/drive/My Drive/Lab_project/data/raw_data/arrhythmia/processed/plot438.png\n",
            "/content/drive/My Drive/Lab_project/data/raw_data/arrhythmia/processed/plot435.png\n",
            "/content/drive/My Drive/Lab_project/data/raw_data/arrhythmia/processed/plot436.png\n",
            "/content/drive/My Drive/Lab_project/data/raw_data/arrhythmia/processed/plot437.png\n",
            "/content/drive/My Drive/Lab_project/data/raw_data/arrhythmia/processed/plot444.png\n",
            "/content/drive/My Drive/Lab_project/data/raw_data/arrhythmia/processed/plot48.png\n",
            "/content/drive/My Drive/Lab_project/data/raw_data/arrhythmia/processed/plot8.png\n",
            "/content/drive/My Drive/Lab_project/data/raw_data/arrhythmia/processed/plot93.png\n",
            "/content/drive/My Drive/Lab_project/data/raw_data/arrhythmia/processed/plot82.png\n",
            "/content/drive/My Drive/Lab_project/data/raw_data/arrhythmia/processed/plot83.png\n",
            "/content/drive/My Drive/Lab_project/data/raw_data/arrhythmia/processed/plot8.0.png\n",
            "/content/drive/My Drive/Lab_project/data/raw_data/arrhythmia/processed/plot75.png\n",
            "/content/drive/My Drive/Lab_project/data/raw_data/arrhythmia/processed/plot81.png\n",
            "/content/drive/My Drive/Lab_project/data/raw_data/arrhythmia/processed/plot90.png\n",
            "/content/drive/My Drive/Lab_project/data/raw_data/arrhythmia/processed/plot84.png\n",
            "/content/drive/My Drive/Lab_project/data/raw_data/arrhythmia/processed/plot89.png\n",
            "/content/drive/My Drive/Lab_project/data/raw_data/arrhythmia/processed/plot9.png\n",
            "/content/drive/My Drive/Lab_project/data/raw_data/arrhythmia/processed/plot88.png\n",
            "/content/drive/My Drive/Lab_project/data/raw_data/arrhythmia/processed/plot86.png\n",
            "/content/drive/My Drive/Lab_project/data/raw_data/arrhythmia/processed/plot85.png\n",
            "/content/drive/My Drive/Lab_project/data/raw_data/arrhythmia/processed/plot87.png\n",
            "/content/drive/My Drive/Lab_project/data/raw_data/arrhythmia/processed/plot92.png\n",
            "/content/drive/My Drive/Lab_project/data/raw_data/arrhythmia/processed/plot97.png\n",
            "/content/drive/My Drive/Lab_project/data/raw_data/arrhythmia/processed/plot94.png\n",
            "/content/drive/My Drive/Lab_project/data/raw_data/arrhythmia/processed/plot95.png\n",
            "/content/drive/My Drive/Lab_project/data/raw_data/arrhythmia/processed/plot96.png\n",
            "/content/drive/My Drive/Lab_project/data/raw_data/arrhythmia/processed/plot99.png\n"
          ]
        }
      ],
      "source": [
        "main_path = \"/content/drive/My Drive/Lab_project/data/raw_data\"\n",
        "augmented_path = \"/content/drive/My Drive/Lab_project/data/augmented\"\n",
        "\n",
        "data_gen_args = dict(\n",
        "                     width_shift_range=0.1,\n",
        "                     height_shift_range=0.1,\n",
        "                     zoom_range=0.2,\n",
        "                     fill_mode='constant',\n",
        "                     cval=255\n",
        "                    )\n",
        "image_datagen = ImageDataGenerator(**data_gen_args)\n",
        "\n",
        "for foldername in os.listdir(main_path): # looping over the different class folder\n",
        "    if foldername == 'arrhythmia': # #augmented\n",
        "        \n",
        "        folder = main_path+\"/\"+foldername+\"/processed\"\n",
        "\n",
        "        Copy_to_path = augmented_path+'/'+foldername+'/'\n",
        "        print(Copy_to_path)\n",
        "\n",
        "    #     determining the files count in each category\n",
        "    #     we want 7500 images in final dataset\n",
        "    #     we have five categories\n",
        "    #     so we need 1500 images in each category\n",
        "        files_count = os.listdir(folder) \n",
        "        print(len(files_count))\n",
        "\n",
        "        total_image_present = len(files_count)\n",
        "        img_batch_size = round(2000/total_image_present)\n",
        "        if img_batch_size > 8 :\n",
        "            img_batch_size = 8\n",
        "\n",
        "        print(f\"batch size for {foldername} category is {img_batch_size}\")\n",
        "        file_count = 0\n",
        "        for filename in os.listdir(folder): # retrieving the image files in particular folder\n",
        "\n",
        "            img = Image.open(folder+\"/\"+filename)\n",
        "            rgb_im = img.convert('RGB')\n",
        "            print(folder+\"/\"+filename)\n",
        "            file_count += 1\n",
        "            #PIL images into NumPy arrays\n",
        "            array = img_to_array(rgb_im)\n",
        "            reshaped_np_arr = array.reshape((1,)+array.shape)\n",
        "            count = 0\n",
        "\n",
        "    #             generating the augmentation of images\n",
        "            for batch in image_datagen.flow(\n",
        "                reshaped_np_arr,\n",
        "                batch_size=1,\n",
        "                save_to_dir=Copy_to_path,\n",
        "                save_prefix = foldername+f'{file_count}',\n",
        "                save_format='jpeg',\n",
        "                seed=20\n",
        "            ):\n",
        "\n",
        "                count += 1\n",
        "                if count == img_batch_size:\n",
        "                    break\n",
        "                    \n",
        "                            \n",
        "    else:\n",
        "        pass"
      ],
      "id": "02e7a7d4"
    },
    {
      "cell_type": "markdown",
      "metadata": {
        "id": "5bfe0655"
      },
      "source": [
        "# **Test Train Split of all classes**"
      ],
      "id": "5bfe0655"
    },
    {
      "cell_type": "code",
      "execution_count": null,
      "metadata": {
        "colab": {
          "base_uri": "https://localhost:8080/"
        },
        "id": "c7272e4b",
        "outputId": "a9852aaa-372f-4f5e-eaf5-62dda44b3221"
      },
      "outputs": [
        {
          "output_type": "stream",
          "name": "stdout",
          "text": [
            "Collecting split-folders\n",
            "  Downloading split_folders-0.5.1-py3-none-any.whl (8.4 kB)\n",
            "Installing collected packages: split-folders\n",
            "Successfully installed split-folders-0.5.1\n"
          ]
        }
      ],
      "source": [
        "!pip install split-folders"
      ],
      "id": "c7272e4b"
    },
    {
      "cell_type": "code",
      "execution_count": null,
      "metadata": {
        "id": "5359086f"
      },
      "outputs": [],
      "source": [
        "import splitfolders"
      ],
      "id": "5359086f"
    },
    {
      "cell_type": "code",
      "source": [
        "pwd"
      ],
      "metadata": {
        "colab": {
          "base_uri": "https://localhost:8080/",
          "height": 35
        },
        "id": "YmYiGvZwa0S7",
        "outputId": "ec0d0c86-52bb-4c3e-d11e-1c639a557d6a"
      },
      "id": "YmYiGvZwa0S7",
      "execution_count": null,
      "outputs": [
        {
          "output_type": "execute_result",
          "data": {
            "text/plain": [
              "'/content'"
            ],
            "application/vnd.google.colaboratory.intrinsic+json": {
              "type": "string"
            }
          },
          "metadata": {},
          "execution_count": 37
        }
      ]
    },
    {
      "cell_type": "code",
      "execution_count": null,
      "metadata": {
        "id": "6c44ebc0"
      },
      "outputs": [],
      "source": [
        "augmented_folder = \"/content/drive/My Drive/Lab_project/data/augmented\"\n",
        "output_folder = \"/content/drive/My Drive/Lab_project/data/inputs\""
      ],
      "id": "6c44ebc0"
    },
    {
      "cell_type": "code",
      "execution_count": null,
      "metadata": {
        "id": "b7a20bd9",
        "outputId": "6976ec1e-d4c3-4d4b-baaf-aab5d67b265a",
        "scrolled": true,
        "colab": {
          "base_uri": "https://localhost:8080/"
        }
      },
      "outputs": [
        {
          "output_type": "stream",
          "name": "stderr",
          "text": [
            "Copying files: 9840 files [01:16, 129.32 files/s]\n"
          ]
        }
      ],
      "source": [
        "# splitfolders.ratio(augmented_folder, output=output_folder,\n",
        "#     seed=28, ratio=(.75, .25), group_prefix=None, move=False)\n",
        "\n",
        "splitfolders.ratio('/content/drive/My Drive/Lab_project/data/augmented', \n",
        "                   output=\"/content/drive/My Drive/Lab_project/data/inputs\", seed=10, ratio=(.8, 0.2)) "
      ],
      "id": "b7a20bd9"
    },
    {
      "cell_type": "markdown",
      "metadata": {
        "id": "848babe1"
      },
      "source": [
        "# **Reading the Test and Val images**"
      ],
      "id": "848babe1"
    },
    {
      "cell_type": "code",
      "execution_count": null,
      "metadata": {
        "id": "9f8e1c24"
      },
      "outputs": [],
      "source": [
        "import tensorflow as tf"
      ],
      "id": "9f8e1c24"
    },
    {
      "cell_type": "code",
      "execution_count": null,
      "metadata": {
        "colab": {
          "base_uri": "https://localhost:8080/"
        },
        "id": "JA9E_6iBf1Z4",
        "outputId": "cf4264f2-9707-486f-870f-fc213a6d18c5"
      },
      "outputs": [
        {
          "output_type": "stream",
          "name": "stdout",
          "text": [
            "Mounted at /content/drive\n"
          ]
        }
      ],
      "source": [
        "#Mounting google drive to read, write data\n",
        "from google.colab import drive\n",
        "\n",
        "drive.mount('/content/drive')"
      ],
      "id": "JA9E_6iBf1Z4"
    },
    {
      "cell_type": "code",
      "execution_count": null,
      "metadata": {
        "id": "abf32d95"
      },
      "outputs": [],
      "source": [
        "#!pip install tensorflow-gpu"
      ],
      "id": "abf32d95"
    },
    {
      "cell_type": "markdown",
      "metadata": {
        "id": "5c5fbcac"
      },
      "source": [
        "##### Reading Training Data using keras"
      ],
      "id": "5c5fbcac"
    },
    {
      "cell_type": "code",
      "execution_count": null,
      "metadata": {
        "id": "uCraY3iYggJZ"
      },
      "outputs": [],
      "source": [
        "train_folder = \"/content/drive/My Drive/Lab_project/data/inputs/train\""
      ],
      "id": "uCraY3iYggJZ"
    },
    {
      "cell_type": "code",
      "execution_count": null,
      "metadata": {
        "colab": {
          "base_uri": "https://localhost:8080/"
        },
        "id": "46b0658b",
        "outputId": "ea912cc3-0b42-4a7c-bbe5-e2ce87843b54"
      },
      "outputs": [
        {
          "output_type": "stream",
          "name": "stdout",
          "text": [
            "Found 7380 files belonging to 6 classes.\n"
          ]
        }
      ],
      "source": [
        "training_ds = tf.keras.preprocessing.image_dataset_from_directory(\n",
        "    train_folder, \n",
        "    labels='inferred', \n",
        "    label_mode='int',\n",
        "    # color_mode='grayscale',\n",
        "    batch_size=32,\n",
        "    image_size=(224, 224),\n",
        "    shuffle=False, seed=11,\n",
        "    validation_split=None,\n",
        "    subset=None,\n",
        "    follow_links=False\n",
        ")"
      ],
      "id": "46b0658b"
    },
    {
      "cell_type": "code",
      "source": [
        "training_ds"
      ],
      "metadata": {
        "colab": {
          "base_uri": "https://localhost:8080/"
        },
        "id": "inla1mlaKLdh",
        "outputId": "e2c0874b-6e59-4676-8740-bbe48eefb29a"
      },
      "id": "inla1mlaKLdh",
      "execution_count": null,
      "outputs": [
        {
          "output_type": "execute_result",
          "data": {
            "text/plain": [
              "<BatchDataset element_spec=(TensorSpec(shape=(None, 224, 224, 3), dtype=tf.float32, name=None), TensorSpec(shape=(None,), dtype=tf.int32, name=None))>"
            ]
          },
          "metadata": {},
          "execution_count": 7
        }
      ]
    },
    {
      "cell_type": "code",
      "source": [
        "import numpy as np\n",
        "\n",
        "\n",
        "for images, labels in training_ds.take(1):  # only take first element of dataset\n",
        "    numpy_images = images.numpy()\n",
        "    numpy_labels = labels.numpy()"
      ],
      "metadata": {
        "id": "TTFKf80qdVAG"
      },
      "id": "TTFKf80qdVAG",
      "execution_count": null,
      "outputs": []
    },
    {
      "cell_type": "code",
      "source": [
        "\n",
        "numpy_images_conv = np.array()\n",
        "for i in numpy_images:\n",
        "  numpy_images_conv[i] = np.ex\n",
        "\n",
        "numpy_images.shape"
      ],
      "metadata": {
        "colab": {
          "base_uri": "https://localhost:8080/"
        },
        "id": "e7HrlNEnh8wX",
        "outputId": "0b3a964b-e3b8-4986-bec4-b282fe6c77b6"
      },
      "id": "e7HrlNEnh8wX",
      "execution_count": null,
      "outputs": [
        {
          "output_type": "execute_result",
          "data": {
            "text/plain": [
              "(32, 224, 224, 1)"
            ]
          },
          "metadata": {},
          "execution_count": 65
        }
      ]
    },
    {
      "cell_type": "code",
      "execution_count": null,
      "metadata": {
        "id": "GINIf67wJGii"
      },
      "outputs": [],
      "source": [
        "images, labels = tuple(zip(*training_ds))"
      ],
      "id": "GINIf67wJGii"
    },
    {
      "cell_type": "code",
      "source": [
        "labels"
      ],
      "metadata": {
        "id": "aJfXW82wgLqQ"
      },
      "id": "aJfXW82wgLqQ",
      "execution_count": null,
      "outputs": []
    },
    {
      "cell_type": "markdown",
      "metadata": {
        "id": "e6cb431f"
      },
      "source": [
        "##### Reading Test/val Data using keras"
      ],
      "id": "e6cb431f"
    },
    {
      "cell_type": "code",
      "execution_count": null,
      "metadata": {
        "id": "vksW4KZhhDL7"
      },
      "outputs": [],
      "source": [
        "val_folder = \"/content/drive/My Drive/Lab_project/data/inputs/val\"\n"
      ],
      "id": "vksW4KZhhDL7"
    },
    {
      "cell_type": "code",
      "execution_count": null,
      "metadata": {
        "colab": {
          "base_uri": "https://localhost:8080/"
        },
        "id": "5fbdbca2",
        "outputId": "4031db6b-ead8-4912-8b56-4a2ebfd8c1fc"
      },
      "outputs": [
        {
          "output_type": "stream",
          "name": "stdout",
          "text": [
            "Found 2460 files belonging to 6 classes.\n"
          ]
        }
      ],
      "source": [
        "val_ds = tf.keras.preprocessing.image_dataset_from_directory(\n",
        "    val_folder, \n",
        "    labels='inferred', \n",
        "    label_mode='int',\n",
        "    # color_mode='grayscale',\n",
        "    batch_size=32,\n",
        "    image_size=(224, 224),\n",
        "    shuffle=False, seed=11,\n",
        "    validation_split=None,\n",
        "    subset=None,\n",
        "    follow_links=False\n",
        ")"
      ],
      "id": "5fbdbca2"
    },
    {
      "cell_type": "code",
      "execution_count": null,
      "metadata": {
        "id": "YIg23xpsKstI"
      },
      "outputs": [],
      "source": [
        "from keras.layers import *"
      ],
      "id": "YIg23xpsKstI"
    },
    {
      "cell_type": "code",
      "source": [
        "from keras.layers import Dense, Convolution2D, Flatten, Dropout,MaxPooling2D,Conv2D,MaxPool2D\n",
        "from keras.layers import Input\n",
        "from keras.models import Model\n",
        "from keras.layers import BatchNormalization\n",
        "import keras\n",
        "from keras.models import Sequential\n",
        "from keras.callbacks import EarlyStopping, ModelCheckpoint"
      ],
      "metadata": {
        "id": "JXMGQEF9MXg_"
      },
      "id": "JXMGQEF9MXg_",
      "execution_count": null,
      "outputs": []
    },
    {
      "cell_type": "markdown",
      "metadata": {
        "id": "832ef126"
      },
      "source": [
        "# **Model Creation and training**"
      ],
      "id": "832ef126"
    },
    {
      "cell_type": "markdown",
      "source": [
        "## Tuned and Stable Model"
      ],
      "metadata": {
        "id": "CtGfBqIfHdd4"
      },
      "id": "CtGfBqIfHdd4"
    },
    {
      "cell_type": "markdown",
      "source": [
        "## **Model -1 - Main model**\n",
        "\n",
        "---"
      ],
      "metadata": {
        "id": "6yR-iVYjYVTs"
      },
      "id": "6yR-iVYjYVTs"
    },
    {
      "cell_type": "code",
      "source": [
        "from keras.layers import Dense, Convolution2D, Flatten, Dropout,MaxPooling2D,Conv2D,MaxPool2D\n",
        "from keras.layers import Input\n",
        "from keras.models import Model\n",
        "from keras.layers import BatchNormalization\n",
        "import keras\n",
        "from keras.models import Sequential\n",
        "from keras.callbacks import EarlyStopping, ModelCheckpoint"
      ],
      "metadata": {
        "id": "jSSqEQk8tUvm"
      },
      "id": "jSSqEQk8tUvm",
      "execution_count": null,
      "outputs": []
    },
    {
      "cell_type": "code",
      "execution_count": null,
      "metadata": {
        "id": "1LfoxRTl8C3d",
        "colab": {
          "base_uri": "https://localhost:8080/"
        },
        "outputId": "3c4d49d5-106a-4528-f695-4da5d5dc88e6"
      },
      "outputs": [
        {
          "output_type": "stream",
          "name": "stdout",
          "text": [
            "Model: \"sequential\"\n",
            "_________________________________________________________________\n",
            " Layer (type)                Output Shape              Param #   \n",
            "=================================================================\n",
            " conv2d (Conv2D)             (None, 224, 224, 32)      320       \n",
            "                                                                 \n",
            " max_pooling2d (MaxPooling2D  (None, 112, 112, 32)     0         \n",
            " )                                                               \n",
            "                                                                 \n",
            " conv2d_1 (Conv2D)           (None, 112, 112, 32)      9248      \n",
            "                                                                 \n",
            " max_pooling2d_1 (MaxPooling  (None, 56, 56, 32)       0         \n",
            " 2D)                                                             \n",
            "                                                                 \n",
            " conv2d_2 (Conv2D)           (None, 56, 56, 64)        18496     \n",
            "                                                                 \n",
            " max_pooling2d_2 (MaxPooling  (None, 28, 28, 64)       0         \n",
            " 2D)                                                             \n",
            "                                                                 \n",
            " dropout (Dropout)           (None, 28, 28, 64)        0         \n",
            "                                                                 \n",
            " flatten (Flatten)           (None, 50176)             0         \n",
            "                                                                 \n",
            " dense (Dense)               (None, 128)               6422656   \n",
            "                                                                 \n",
            " dense_1 (Dense)             (None, 6)                 774       \n",
            "                                                                 \n",
            "=================================================================\n",
            "Total params: 6,451,494\n",
            "Trainable params: 6,451,494\n",
            "Non-trainable params: 0\n",
            "_________________________________________________________________\n"
          ]
        }
      ],
      "source": [
        "from tensorflow.keras.optimizers import Adam\n",
        "\n",
        "model = Sequential()\n",
        "model.add(Conv2D(32,3,padding=\"same\", activation=\"relu\", input_shape=(224,224,1)))\n",
        "model.add(MaxPool2D())\n",
        "\n",
        "model.add(Conv2D(32, 3, padding=\"same\", activation=\"relu\"))\n",
        "model.add(MaxPool2D())\n",
        "\n",
        "model.add(Conv2D(64, 3, padding=\"same\", activation=\"relu\"))\n",
        "model.add(MaxPool2D())\n",
        "model.add(Dropout(0.4))\n",
        "\n",
        "model.add(Flatten())\n",
        "model.add(Dense(128,activation=\"relu\"))\n",
        "model.add(Dense(6, activation=\"softmax\"))\n",
        "\n",
        "model.summary()\n",
        "\n",
        "\n",
        "opt = Adam(learning_rate=0.000001)\n",
        "model.compile(optimizer = opt , loss = 'sparse_categorical_crossentropy', metrics = ['accuracy'])\n",
        "\n",
        "history = model.fit(training_ds,\n",
        "          validation_data=val_ds,\n",
        "          epochs=300,\n",
        "          verbose=1\n",
        ")"
      ],
      "id": "1LfoxRTl8C3d"
    },
    {
      "cell_type": "code",
      "source": [
        "os.chdir(\"/content/drive/My Drive/Lab_project/data\")"
      ],
      "metadata": {
        "id": "wudkqw3bu5kP"
      },
      "id": "wudkqw3bu5kP",
      "execution_count": null,
      "outputs": []
    },
    {
      "cell_type": "code",
      "execution_count": null,
      "metadata": {
        "id": "JIS3u3Xq8C4w"
      },
      "outputs": [],
      "source": [
        "model.save('eccg_model.h5')"
      ],
      "id": "JIS3u3Xq8C4w"
    },
    {
      "cell_type": "code",
      "source": [
        "os.getcwd()"
      ],
      "metadata": {
        "id": "ErGUoX93002i",
        "outputId": "1c750d9c-00d0-45f7-f54c-99b1c2423c4b",
        "colab": {
          "base_uri": "https://localhost:8080/",
          "height": 35
        }
      },
      "id": "ErGUoX93002i",
      "execution_count": null,
      "outputs": [
        {
          "output_type": "execute_result",
          "data": {
            "text/plain": [
              "'/content/drive/MyDrive/second sem'"
            ],
            "application/vnd.google.colaboratory.intrinsic+json": {
              "type": "string"
            }
          },
          "metadata": {},
          "execution_count": 22
        }
      ]
    },
    {
      "cell_type": "code",
      "execution_count": null,
      "metadata": {
        "id": "0LY0BbKu8C7e"
      },
      "outputs": [],
      "source": [
        "model.save_weights('ecg_model_weights.h5')"
      ],
      "id": "0LY0BbKu8C7e"
    },
    {
      "cell_type": "code",
      "execution_count": null,
      "metadata": {
        "id": "Swf0M5h78C9L"
      },
      "outputs": [],
      "source": [
        "acc = history.history['accuracy']\n",
        "val_acc = history.history['val_accuracy']\n",
        "loss = history.history['loss']\n",
        "val_loss = history.history['val_loss']"
      ],
      "id": "Swf0M5h78C9L"
    },
    {
      "cell_type": "code",
      "source": [
        "import matplotlib.pyplot as plt\n"
      ],
      "metadata": {
        "id": "02qewJqYzHAq"
      },
      "id": "02qewJqYzHAq",
      "execution_count": null,
      "outputs": []
    },
    {
      "cell_type": "code",
      "execution_count": null,
      "metadata": {
        "id": "ybJkmxe68DAS"
      },
      "outputs": [],
      "source": [
        "epochs_range = range(500)\n",
        "\n",
        "plt.figure(figsize=(15, 15))\n",
        "plt.subplot(2, 2, 1)\n",
        "plt.plot(epochs_range, acc, label='Training Accuracy')\n",
        "plt.plot(epochs_range, val_acc, label='Validation Accuracy')\n",
        "plt.legend(loc='lower right')\n",
        "plt.title('Training and Validation Accuracy')\n",
        "\n",
        "plt.subplot(2, 2, 2)\n",
        "plt.plot(epochs_range, loss, label='Training Loss')\n",
        "plt.plot(epochs_range, val_loss, label='Validation Loss')\n",
        "plt.legend(loc='upper right')\n",
        "plt.title('Training and Validation Loss')\n",
        "plt.show()"
      ],
      "id": "ybJkmxe68DAS"
    },
    {
      "cell_type": "code",
      "source": [
        "epochs_range = range(300)\n",
        "\n",
        "fig = plt.figure(figsize=(15, 15))\n",
        "plt.subplot(2, 2, 1)\n",
        "plt.plot(epochs_range, acc, label='Training Accuracy')\n",
        "plt.plot(epochs_range, val_acc, label='Validation Accuracy')\n",
        "plt.legend(loc='lower right')\n",
        "plt.title('Training and Validation Accuracy')\n",
        "\n",
        "plt.subplot(2, 2, 2)\n",
        "plt.plot(epochs_range, loss, label='Training Loss')\n",
        "plt.plot(epochs_range, val_loss, label='Validation Loss')\n",
        "plt.legend(loc='upper right')\n",
        "plt.title('Training and Validation Loss')\n",
        "plt.show()\n",
        "fig.tight_layout()\n",
        "fig.savefig(\"chart.png\",dpi=fig.dpi)\n"
      ],
      "metadata": {
        "colab": {
          "base_uri": "https://localhost:8080/"
        },
        "id": "Wg2B7TRkvl5O",
        "outputId": "73758e18-899c-43a3-f297-22dcc5ddaaa6"
      },
      "id": "Wg2B7TRkvl5O",
      "execution_count": null,
      "outputs": [
        {
          "output_type": "display_data",
          "data": {
            "text/plain": [
              "<Figure size 1080x1080 with 2 Axes>"
            ],
            "image/png": "[encoded data removed]"
          },
          "metadata": {
            "needs_background": "light"
          }
        }
      ]
    },
    {
      "cell_type": "markdown",
      "source": [
        "## **Model -2 - VGG model**"
      ],
      "metadata": {
        "id": "-nHEasZLBirl"
      },
      "id": "-nHEasZLBirl"
    },
    {
      "cell_type": "code",
      "source": [
        "from keras.models import Sequential\n",
        "from keras.layers import Dense, Convolution2D, Flatten, Dropout,MaxPooling2D,Conv2D,MaxPool2D\n",
        "from tensorflow.keras.applications import VGG16\n",
        "from keras.models import Model\n",
        "from keras.callbacks import EarlyStopping, ModelCheckpoint\n",
        "from tensorflow.keras.optimizers import Adam\n",
        "\n",
        "vgg_model = VGG16(weights='imagenet', include_top=False, input_shape=(224, 224, 3))\n",
        "\n",
        "for layer in vgg_model.layers[:15]:\n",
        "  print(layer.name) \n",
        "  layer.trainable = False\n",
        "\n",
        "x = vgg_model.output\n",
        "x = Flatten()(x) # Flatten dimensions to for use in FC layers\n",
        "x = Dense(512, activation='relu')(x)\n",
        "x = Dropout(0.5)(x) # Dropout layer to reduce overfitting\n",
        "x = Dense(256, activation='relu')(x)\n",
        "x = Dense(6, activation='softmax')(x) # Softmax for multiclass\n",
        "transfer_model = Model(inputs=vgg_model.input, outputs=x)\n",
        "\n",
        "transfer_model.summary()\n",
        "\n",
        "\n",
        "# opt = Adam(lr=0.001)\n",
        "# transfer_model.compile(loss=\"sparse_categorical_crossentropy\", optimizer=opt, metrics=[\"accuracy\"])\n",
        "\n",
        "# callbacks = [EarlyStopping(monitor='val_loss', patience=5,verbose=1),\n",
        "#             ModelCheckpoint(filepath='vgg_ecg.h5', monitor='val_loss', save_best_only=True)]\n",
        "\n",
        "\n"
      ],
      "metadata": {
        "colab": {
          "base_uri": "https://localhost:8080/"
        },
        "id": "y0pIwaLLBlB0",
        "outputId": "c3c4b3f2-bb26-4872-92ef-4c9dd729a4ab"
      },
      "id": "y0pIwaLLBlB0",
      "execution_count": null,
      "outputs": [
        {
          "output_type": "stream",
          "name": "stdout",
          "text": [
            "Downloading data from https://storage.googleapis.com/tensorflow/keras-applications/vgg16/vgg16_weights_tf_dim_ordering_tf_kernels_notop.h5\n",
            "58892288/58889256 [==============================] - 0s 0us/step\n",
            "58900480/58889256 [==============================] - 0s 0us/step\n",
            "input_1\n",
            "block1_conv1\n",
            "block1_conv2\n",
            "block1_pool\n",
            "block2_conv1\n",
            "block2_conv2\n",
            "block2_pool\n",
            "block3_conv1\n",
            "block3_conv2\n",
            "block3_conv3\n",
            "block3_pool\n",
            "block4_conv1\n",
            "block4_conv2\n",
            "block4_conv3\n",
            "block4_pool\n",
            "Model: \"model\"\n",
            "_________________________________________________________________\n",
            " Layer (type)                Output Shape              Param #   \n",
            "=================================================================\n",
            " input_1 (InputLayer)        [(None, 224, 224, 3)]     0         \n",
            "                                                                 \n",
            " block1_conv1 (Conv2D)       (None, 224, 224, 64)      1792      \n",
            "                                                                 \n",
            " block1_conv2 (Conv2D)       (None, 224, 224, 64)      36928     \n",
            "                                                                 \n",
            " block1_pool (MaxPooling2D)  (None, 112, 112, 64)      0         \n",
            "                                                                 \n",
            " block2_conv1 (Conv2D)       (None, 112, 112, 128)     73856     \n",
            "                                                                 \n",
            " block2_conv2 (Conv2D)       (None, 112, 112, 128)     147584    \n",
            "                                                                 \n",
            " block2_pool (MaxPooling2D)  (None, 56, 56, 128)       0         \n",
            "                                                                 \n",
            " block3_conv1 (Conv2D)       (None, 56, 56, 256)       295168    \n",
            "                                                                 \n",
            " block3_conv2 (Conv2D)       (None, 56, 56, 256)       590080    \n",
            "                                                                 \n",
            " block3_conv3 (Conv2D)       (None, 56, 56, 256)       590080    \n",
            "                                                                 \n",
            " block3_pool (MaxPooling2D)  (None, 28, 28, 256)       0         \n",
            "                                                                 \n",
            " block4_conv1 (Conv2D)       (None, 28, 28, 512)       1180160   \n",
            "                                                                 \n",
            " block4_conv2 (Conv2D)       (None, 28, 28, 512)       2359808   \n",
            "                                                                 \n",
            " block4_conv3 (Conv2D)       (None, 28, 28, 512)       2359808   \n",
            "                                                                 \n",
            " block4_pool (MaxPooling2D)  (None, 14, 14, 512)       0         \n",
            "                                                                 \n",
            " block5_conv1 (Conv2D)       (None, 14, 14, 512)       2359808   \n",
            "                                                                 \n",
            " block5_conv2 (Conv2D)       (None, 14, 14, 512)       2359808   \n",
            "                                                                 \n",
            " block5_conv3 (Conv2D)       (None, 14, 14, 512)       2359808   \n",
            "                                                                 \n",
            " block5_pool (MaxPooling2D)  (None, 7, 7, 512)         0         \n",
            "                                                                 \n",
            " flatten_1 (Flatten)         (None, 25088)             0         \n",
            "                                                                 \n",
            " dense_2 (Dense)             (None, 512)               12845568  \n",
            "                                                                 \n",
            " dropout_1 (Dropout)         (None, 512)               0         \n",
            "                                                                 \n",
            " dense_3 (Dense)             (None, 256)               131328    \n",
            "                                                                 \n",
            " dense_4 (Dense)             (None, 6)                 1542      \n",
            "                                                                 \n",
            "=================================================================\n",
            "Total params: 27,693,126\n",
            "Trainable params: 20,057,862\n",
            "Non-trainable params: 7,635,264\n",
            "_________________________________________________________________\n"
          ]
        }
      ]
    },
    {
      "cell_type": "code",
      "source": [
        "from tensorflow.keras import layers, models, Model, optimizers\n",
        "\n",
        "\n",
        "history = transfer_model.fit(training_ds, epochs=50,callbacks=callbacks,validation_data=val_ds)\n",
        "\n"
      ],
      "metadata": {
        "colab": {
          "base_uri": "https://localhost:8080/"
        },
        "id": "D7rtm1O_DXs-",
        "outputId": "a53ecd7a-c287-4f43-8e52-e51d7671947c"
      },
      "id": "D7rtm1O_DXs-",
      "execution_count": null,
      "outputs": [
        {
          "output_type": "stream",
          "name": "stdout",
          "text": [
            "Epoch 1/50\n",
            "231/231 [==============================] - 360s 2s/step - loss: 13963.4355 - accuracy: 0.9289 - val_loss: 524375.6875 - val_accuracy: 0.1736\n",
            "Epoch 2/50\n",
            "231/231 [==============================] - 346s 2s/step - loss: 4969.0996 - accuracy: 0.8264 - val_loss: 140.3166 - val_accuracy: 0.1736\n",
            "Epoch 3/50\n",
            "231/231 [==============================] - 352s 2s/step - loss: 7.9210 - accuracy: 0.8222 - val_loss: 22.9384 - val_accuracy: 0.1736\n",
            "Epoch 4/50\n",
            "231/231 [==============================] - 352s 2s/step - loss: 2.4103 - accuracy: 0.6336 - val_loss: 2.4863 - val_accuracy: 0.1821\n",
            "Epoch 5/50\n",
            "231/231 [==============================] - 351s 2s/step - loss: 3.7074 - accuracy: 0.5446 - val_loss: 3.4598 - val_accuracy: 0.1748\n",
            "Epoch 6/50\n",
            "231/231 [==============================] - 349s 2s/step - loss: 4.8387 - accuracy: 0.5272 - val_loss: 10.5787 - val_accuracy: 0.1833\n",
            "Epoch 7/50\n",
            "231/231 [==============================] - 347s 2s/step - loss: 2.3506 - accuracy: 0.6237 - val_loss: 2.1534 - val_accuracy: 0.2984\n",
            "Epoch 8/50\n",
            "231/231 [==============================] - 340s 1s/step - loss: 1.4911 - accuracy: 0.7459 - val_loss: 2.1149 - val_accuracy: 0.2492\n",
            "Epoch 9/50\n",
            "231/231 [==============================] - 333s 1s/step - loss: 1.4540 - accuracy: 0.4985 - val_loss: 1.4263 - val_accuracy: 0.3577\n",
            "Epoch 10/50\n",
            "231/231 [==============================] - 334s 1s/step - loss: 1.4573 - accuracy: 0.3606 - val_loss: 1.3711 - val_accuracy: 0.3585\n",
            "Epoch 11/50\n",
            "231/231 [==============================] - 341s 1s/step - loss: 1.3999 - accuracy: 0.3379 - val_loss: 1.3425 - val_accuracy: 0.3589\n",
            "Epoch 12/50\n",
            "231/231 [==============================] - 359s 2s/step - loss: 1.3760 - accuracy: 0.3260 - val_loss: 1.3211 - val_accuracy: 0.3622\n",
            "Epoch 13/50\n",
            "231/231 [==============================] - 355s 2s/step - loss: 2.5922 - accuracy: 0.7827 - val_loss: 6.8381 - val_accuracy: 0.3585\n",
            "Epoch 14/50\n",
            "231/231 [==============================] - 356s 2s/step - loss: 2.3098 - accuracy: 0.8264 - val_loss: 10.9493 - val_accuracy: 0.3577\n",
            "Epoch 15/50\n",
            "231/231 [==============================] - 353s 2s/step - loss: 1.4938 - accuracy: 0.6385 - val_loss: 1.3333 - val_accuracy: 0.4037\n",
            "Epoch 16/50\n",
            "231/231 [==============================] - 352s 2s/step - loss: 1.3686 - accuracy: 0.4030 - val_loss: 1.3042 - val_accuracy: 0.4041\n",
            "Epoch 17/50\n",
            "231/231 [==============================] - 345s 1s/step - loss: 1.3427 - accuracy: 0.3909 - val_loss: 1.2936 - val_accuracy: 0.4041\n",
            "Epoch 18/50\n",
            "231/231 [==============================] - 349s 2s/step - loss: 1.3297 - accuracy: 0.3848 - val_loss: 1.2871 - val_accuracy: 0.4041\n",
            "Epoch 19/50\n",
            "231/231 [==============================] - 356s 2s/step - loss: 1.3213 - accuracy: 0.3878 - val_loss: 1.2827 - val_accuracy: 0.4045\n",
            "Epoch 20/50\n",
            "231/231 [==============================] - 346s 2s/step - loss: 1.3156 - accuracy: 0.3873 - val_loss: 1.2796 - val_accuracy: 0.4045\n",
            "Epoch 21/50\n",
            "231/231 [==============================] - 339s 1s/step - loss: 1.3105 - accuracy: 0.3919 - val_loss: 1.2771 - val_accuracy: 0.4045\n",
            "Epoch 22/50\n",
            "231/231 [==============================] - 339s 1s/step - loss: 1.3072 - accuracy: 0.3924 - val_loss: 1.2750 - val_accuracy: 0.4045\n",
            "Epoch 23/50\n",
            "231/231 [==============================] - 342s 1s/step - loss: 1.3051 - accuracy: 0.3915 - val_loss: 1.2731 - val_accuracy: 0.4045\n",
            "Epoch 24/50\n",
            "231/231 [==============================] - 343s 1s/step - loss: 2.0931 - accuracy: 0.7102 - val_loss: 37.1946 - val_accuracy: 0.3577\n",
            "Epoch 25/50\n",
            "231/231 [==============================] - 342s 1s/step - loss: 7.9920 - accuracy: 0.8986 - val_loss: 107.1327 - val_accuracy: 0.3573\n",
            "Epoch 26/50\n",
            "231/231 [==============================] - 344s 1s/step - loss: 2.9742 - accuracy: 0.7560 - val_loss: 6.4150 - val_accuracy: 0.3577\n",
            "Epoch 27/50\n",
            "231/231 [==============================] - 339s 1s/step - loss: 1.4972 - accuracy: 0.7243 - val_loss: 27.4861 - val_accuracy: 0.3191\n",
            "Epoch 28/50\n",
            "231/231 [==============================] - 334s 1s/step - loss: 2.3647 - accuracy: 0.5153 - val_loss: 1.9635 - val_accuracy: 0.2041\n",
            "Epoch 28: early stopping\n"
          ]
        }
      ]
    },
    {
      "cell_type": "code",
      "source": [
        "acc = history.history['accuracy']\n",
        "val_acc = history.history['val_accuracy']\n",
        "loss = history.history['loss']\n",
        "val_loss = history.history['val_loss']"
      ],
      "metadata": {
        "id": "zdi2u-wFK8WZ"
      },
      "id": "zdi2u-wFK8WZ",
      "execution_count": null,
      "outputs": []
    },
    {
      "cell_type": "code",
      "source": [
        "import matplotlib.pyplot as plt\n",
        "\n",
        "epochs_range = range(28)\n",
        "\n",
        "fig = plt.figure(figsize=(15, 15))\n",
        "plt.subplot(2, 2, 1)\n",
        "plt.plot(epochs_range, acc, label='Training Accuracy')\n",
        "plt.plot(epochs_range, val_acc, label='Validation Accuracy')\n",
        "plt.legend(loc='lower right')\n",
        "plt.title('Training and Validation Accuracy')\n",
        "\n",
        "plt.subplot(2, 2, 2)\n",
        "plt.plot(epochs_range, loss, label='Training Loss')\n",
        "plt.plot(epochs_range, val_loss, label='Validation Loss')\n",
        "plt.legend(loc='upper right')\n",
        "plt.title('Training and Validation Loss')\n",
        "plt.show()\n",
        "fig.tight_layout()\n",
        "fig.savefig(\"chart.png\",dpi=fig.dpi)"
      ],
      "metadata": {
        "colab": {
          "base_uri": "https://localhost:8080/",
          "height": 435
        },
        "id": "E9UfCeJCkYe0",
        "outputId": "e0168515-e1a3-4c89-d386-c7dc28bb5dc5"
      },
      "id": "E9UfCeJCkYe0",
      "execution_count": null,
      "outputs": [
        {
          "output_type": "display_data",
          "data": {
            "text/plain": [
              "<Figure size 1080x1080 with 2 Axes>"
            ],
            "image/png": "[encoded data removed]"
          },
          "metadata": {
            "needs_background": "light"
          }
        }
      ]
    },
    {
      "cell_type": "markdown",
      "source": [
        "# **Initial Model Builds**"
      ],
      "metadata": {
        "id": "9BM5PYRDHS1H"
      },
      "id": "9BM5PYRDHS1H"
    },
    {
      "cell_type": "markdown",
      "source": [
        "## **Model - 3**\n",
        "\n",
        "---"
      ],
      "metadata": {
        "id": "qGf3vhB_YkY2"
      },
      "id": "qGf3vhB_YkY2"
    },
    {
      "cell_type": "code",
      "execution_count": null,
      "metadata": {
        "id": "a9-PlUH5frkQ"
      },
      "outputs": [],
      "source": [
        "def network(training_ds,val_ds):\n",
        "  \n",
        "  im_shape=(224,224,1)\n",
        "  inputs_cnn=Input(shape=(im_shape), name='inputs_cnn')\n",
        "  conv1_1=Conv2D(64, (6), activation='relu', input_shape=im_shape)(inputs_cnn)\n",
        "  conv1_1=BatchNormalization()(conv1_1)\n",
        "  pool1=MaxPooling2D(pool_size=(3), strides=(2), padding=\"same\")(conv1_1)\n",
        "\n",
        "  conv2_1=Conv2D(64, (3), activation='relu')(pool1)\n",
        "  conv2_1=BatchNormalization()(conv2_1)\n",
        "  pool2=MaxPooling2D(pool_size=(2), strides=(2), padding=\"same\")(conv2_1)\n",
        "\n",
        "  conv3_1=Conv2D(64, (3), activation='relu')(pool2)\n",
        "  conv3_1=BatchNormalization()(conv3_1)\n",
        "  pool3=MaxPooling2D(pool_size=(2), strides=(2), padding=\"same\")(conv3_1)\n",
        "\n",
        "  flatten=Flatten()(pool3)\n",
        "  dense_end1 = Dense(64, activation='relu')(flatten)\n",
        "  dense_end2 = Dense(32, activation='relu')(dense_end1)\n",
        "  main_output = Dense(5, activation='softmax', name='main_output')(dense_end2)\n",
        "\n",
        "\n",
        "  model = Model(inputs= inputs_cnn, outputs=main_output)\n",
        "  model.compile(optimizer='adam', loss='sparse_categorical_crossentropy',metrics = ['accuracy'])\n",
        "\n",
        "\n",
        "  callbacks = [EarlyStopping(monitor='val_loss', patience=8),\n",
        "            ModelCheckpoint(filepath='best_model.h5', monitor='val_loss', save_best_only=True)]\n",
        "\n",
        "\n",
        "\n",
        "  history=model.fit(training_ds, epochs=40,callbacks=callbacks, batch_size=32,validation_data=val_ds)\n",
        "  model.load_weights('best_model.h5')\n",
        "  return(model,history)\n",
        "    "
      ],
      "id": "a9-PlUH5frkQ"
    },
    {
      "cell_type": "code",
      "execution_count": null,
      "metadata": {
        "colab": {
          "base_uri": "https://localhost:8080/"
        },
        "id": "SjZjY9oGg7TW",
        "outputId": "50f4be18-75a7-43ce-fc60-e7c89008828c"
      },
      "outputs": [
        {
          "name": "stdout",
          "output_type": "stream",
          "text": [
            "Epoch 1/40\n",
            "189/189 [==============================] - 182s 962ms/step - loss: 5.9343 - accuracy: 0.8989 - val_loss: 135.8397 - val_accuracy: 0.0717\n",
            "Epoch 2/40\n",
            "189/189 [==============================] - 183s 967ms/step - loss: 5.7183 - accuracy: 0.8591 - val_loss: 1341.6213 - val_accuracy: 0.1389\n",
            "Epoch 3/40\n",
            "189/189 [==============================] - 181s 956ms/step - loss: 4.4294 - accuracy: 0.7498 - val_loss: 3.5840 - val_accuracy: 0.2136\n",
            "Epoch 4/40\n",
            "189/189 [==============================] - 186s 985ms/step - loss: 1.7333 - accuracy: 0.6964 - val_loss: 2.7176 - val_accuracy: 0.2719\n",
            "Epoch 5/40\n",
            "189/189 [==============================] - 215s 1s/step - loss: 1.8847 - accuracy: 0.6029 - val_loss: 2.4472 - val_accuracy: 0.2136\n",
            "Epoch 6/40\n",
            "189/189 [==============================] - 202s 1s/step - loss: 1.3482 - accuracy: 0.3103 - val_loss: 1.4473 - val_accuracy: 0.3695\n",
            "Epoch 7/40\n",
            "189/189 [==============================] - 182s 961ms/step - loss: 1.1862 - accuracy: 0.4314 - val_loss: 1.2449 - val_accuracy: 0.5030\n",
            "Epoch 8/40\n",
            "189/189 [==============================] - 179s 947ms/step - loss: 1.1543 - accuracy: 0.5105 - val_loss: 1.2658 - val_accuracy: 0.5005\n",
            "Epoch 9/40\n",
            "189/189 [==============================] - 180s 955ms/step - loss: 1.1359 - accuracy: 0.5051 - val_loss: 1.1622 - val_accuracy: 0.5020\n",
            "Epoch 10/40\n",
            "189/189 [==============================] - 180s 952ms/step - loss: 1.1140 - accuracy: 0.5073 - val_loss: 1.1551 - val_accuracy: 0.4910\n",
            "Epoch 11/40\n",
            "189/189 [==============================] - 178s 941ms/step - loss: 1.3237 - accuracy: 0.5181 - val_loss: 2.0795 - val_accuracy: 0.2913\n",
            "Epoch 12/40\n",
            "189/189 [==============================] - 178s 944ms/step - loss: 1.1588 - accuracy: 0.5100 - val_loss: 2.3725 - val_accuracy: 0.3660\n",
            "Epoch 13/40\n",
            "189/189 [==============================] - 178s 940ms/step - loss: 1.2596 - accuracy: 0.5802 - val_loss: 8.6687 - val_accuracy: 0.4308\n",
            "Epoch 14/40\n",
            "189/189 [==============================] - 180s 951ms/step - loss: 1.9543 - accuracy: 0.4960 - val_loss: 1.6795 - val_accuracy: 0.2684\n",
            "Epoch 15/40\n",
            "189/189 [==============================] - 178s 941ms/step - loss: 1.3574 - accuracy: 0.4084 - val_loss: 1.6805 - val_accuracy: 0.2669\n",
            "Epoch 16/40\n",
            "189/189 [==============================] - 179s 945ms/step - loss: 1.1849 - accuracy: 0.4920 - val_loss: 3.0299 - val_accuracy: 0.4512\n",
            "Epoch 17/40\n",
            "189/189 [==============================] - 178s 941ms/step - loss: 1.1307 - accuracy: 0.4874 - val_loss: 1.5213 - val_accuracy: 0.4935\n",
            "Epoch 18/40\n",
            "189/189 [==============================] - 178s 940ms/step - loss: 1.0775 - accuracy: 0.5096 - val_loss: 1.5546 - val_accuracy: 0.5045\n"
          ]
        }
      ],
      "source": [
        "model,history=network(training_ds=training_ds,val_ds=val_ds)"
      ],
      "id": "SjZjY9oGg7TW"
    },
    {
      "cell_type": "markdown",
      "source": [
        "## **Model - 4** \n",
        "\n",
        "---"
      ],
      "metadata": {
        "id": "18TJfAkrZeRl"
      },
      "id": "18TJfAkrZeRl"
    },
    {
      "cell_type": "code",
      "execution_count": null,
      "metadata": {
        "id": "8395e331"
      },
      "outputs": [],
      "source": [
        "from keras.models import Sequential\n",
        "from keras.layers import Dense, Dropout, Flatten\n",
        "from keras.layers import Conv2D, MaxPooling2D, BatchNormalization"
      ],
      "id": "8395e331"
    },
    {
      "cell_type": "code",
      "execution_count": null,
      "metadata": {
        "id": "ed845282"
      },
      "outputs": [],
      "source": [
        "cnn3 = Sequential()\n",
        "cnn3.add(Conv2D(32, kernel_size=(3, 3), activation='relu', input_shape=(224,224,1)))\n",
        "cnn3.add(BatchNormalization())\n",
        "\n",
        "cnn3.add(MaxPooling2D((2, 2)))\n",
        "cnn3.add(Dropout(0.25))\n",
        "\n",
        "cnn3.add(Conv2D(64, kernel_size=(3, 3), activation='relu'))\n",
        "cnn3.add(MaxPooling2D(pool_size=(2, 2)))\n",
        "cnn3.add(Dropout(0.25))\n",
        "\n",
        "cnn3.add(Conv2D(128, kernel_size=(2, 2), activation='relu'))\n",
        "cnn3.add(Dropout(0.4))\n",
        "\n",
        "cnn3.add(Flatten())\n",
        "\n",
        "cnn3.add(Dense(128, activation='relu'))\n",
        "cnn3.add(Dropout(0.3))\n",
        "cnn3.add(Dense(5, activation='softmax'))\n",
        "\n",
        "cnn3.compile(loss='sparse_categorical_crossentropy',\n",
        "              optimizer='adam',\n",
        "              metrics=['accuracy'])\n"
      ],
      "id": "ed845282"
    },
    {
      "cell_type": "code",
      "execution_count": null,
      "metadata": {
        "colab": {
          "base_uri": "https://localhost:8080/"
        },
        "id": "043b9c4e",
        "outputId": "4cc0233f-77ee-4a7e-ae41-b8f2f482177b"
      },
      "outputs": [
        {
          "name": "stdout",
          "output_type": "stream",
          "text": [
            "Epoch 1/11\n",
            "189/189 [==============================] - 97s 513ms/step - loss: 59.4232 - accuracy: 0.4864 - val_loss: 1.6233 - val_accuracy: 0.1982\n",
            "Epoch 2/11\n",
            "189/189 [==============================] - 97s 514ms/step - loss: 1.5517 - accuracy: 0.2346 - val_loss: 1.5805 - val_accuracy: 0.2321\n",
            "Epoch 3/11\n",
            "189/189 [==============================] - 97s 513ms/step - loss: 1.3650 - accuracy: 0.3571 - val_loss: 1.4438 - val_accuracy: 0.3167\n",
            "Epoch 4/11\n",
            "189/189 [==============================] - 97s 515ms/step - loss: 1.2519 - accuracy: 0.4290 - val_loss: 1.4320 - val_accuracy: 0.2829\n",
            "Epoch 5/11\n",
            "189/189 [==============================] - 98s 518ms/step - loss: 4.9769 - accuracy: 0.6262 - val_loss: 1.6290 - val_accuracy: 0.2126\n",
            "Epoch 6/11\n",
            "189/189 [==============================] - 98s 517ms/step - loss: 3.2352 - accuracy: 0.7382 - val_loss: 1.9433 - val_accuracy: 0.3884\n",
            "Epoch 7/11\n",
            "189/189 [==============================] - 97s 513ms/step - loss: 1.1552 - accuracy: 0.5405 - val_loss: 3.4759 - val_accuracy: 0.5687\n",
            "Epoch 8/11\n",
            "189/189 [==============================] - 97s 513ms/step - loss: 1.1323 - accuracy: 0.6423 - val_loss: 1.4233 - val_accuracy: 0.4861\n",
            "Epoch 9/11\n",
            "189/189 [==============================] - 97s 515ms/step - loss: 0.8821 - accuracy: 0.7488 - val_loss: 1.1453 - val_accuracy: 0.6484\n",
            "Epoch 10/11\n",
            "189/189 [==============================] - 97s 515ms/step - loss: 0.6649 - accuracy: 0.8204 - val_loss: 1.4603 - val_accuracy: 0.5722\n",
            "Epoch 11/11\n",
            "189/189 [==============================] - 97s 516ms/step - loss: 3.6636 - accuracy: 0.7666 - val_loss: 1.8962 - val_accuracy: 0.3352\n"
          ]
        },
        {
          "data": {
            "text/plain": [
              "<keras.callbacks.History at 0x7efc09d2a110>"
            ]
          },
          "execution_count": 84,
          "metadata": {},
          "output_type": "execute_result"
        }
      ],
      "source": [
        "cnn3.fit(training_ds,\n",
        "         validation_data=val_ds,\n",
        "         batch_size=32,\n",
        "         epochs=11,\n",
        "         verbose='auto',\n",
        ")"
      ],
      "id": "043b9c4e"
    },
    {
      "cell_type": "markdown",
      "metadata": {
        "id": "4fb23d9f"
      },
      "source": [
        "# Testing and Junkies"
      ],
      "id": "4fb23d9f"
    },
    {
      "cell_type": "markdown",
      "metadata": {
        "id": "c39b4a18"
      },
      "source": [
        "### Do Not Run These unless testing something"
      ],
      "id": "c39b4a18"
    },
    {
      "cell_type": "code",
      "execution_count": null,
      "metadata": {
        "id": "b8e8767c",
        "outputId": "860d6ea8-ab16-4f93-ad13-507dbc1e92e0"
      },
      "outputs": [
        {
          "name": "stdout",
          "output_type": "stream",
          "text": [
            "C:\\Users\\anant\\jupyterBooks\\LectureNotebooks\\2022W\\AML_2404_LAB\\data1\\augmented\\abnormalHR\\cropped\\\n",
            "C:\\Users\\anant\\jupyterBooks\\LectureNotebooks\\2022W\\AML_2404_LAB\\data1\\augmented\\covid19\\cropped\\\n"
          ]
        },
        {
          "ename": "KeyboardInterrupt",
          "evalue": "",
          "output_type": "error",
          "traceback": [
            "\u001b[1;31m---------------------------------------------------------------------------\u001b[0m",
            "\u001b[1;31mKeyboardInterrupt\u001b[0m                         Traceback (most recent call last)",
            "\u001b[1;32m~\\AppData\\Local\\Temp/ipykernel_24084/1957532539.py\u001b[0m in \u001b[0;36m<module>\u001b[1;34m\u001b[0m\n\u001b[0;32m     13\u001b[0m         \u001b[1;32mif\u001b[0m \u001b[0mfilename\u001b[0m \u001b[1;33m!=\u001b[0m \u001b[1;34m'cropped'\u001b[0m\u001b[1;33m:\u001b[0m\u001b[1;33m\u001b[0m\u001b[1;33m\u001b[0m\u001b[0m\n\u001b[0;32m     14\u001b[0m             \u001b[0mcount\u001b[0m \u001b[1;33m+=\u001b[0m \u001b[1;36m1\u001b[0m\u001b[1;33m\u001b[0m\u001b[1;33m\u001b[0m\u001b[0m\n\u001b[1;32m---> 15\u001b[1;33m             \u001b[0mimage\u001b[0m \u001b[1;33m=\u001b[0m \u001b[0mcv2\u001b[0m\u001b[1;33m.\u001b[0m\u001b[0mimread\u001b[0m\u001b[1;33m(\u001b[0m\u001b[0mfolder\u001b[0m\u001b[1;33m+\u001b[0m\u001b[1;34m\"\\\\\"\u001b[0m\u001b[1;33m+\u001b[0m\u001b[0mfilename\u001b[0m\u001b[1;33m)\u001b[0m \u001b[1;31m#reading the images\u001b[0m\u001b[1;33m\u001b[0m\u001b[1;33m\u001b[0m\u001b[0m\n\u001b[0m\u001b[0;32m     16\u001b[0m             \u001b[0mimgray\u001b[0m \u001b[1;33m=\u001b[0m \u001b[0mcv2\u001b[0m\u001b[1;33m.\u001b[0m\u001b[0mcvtColor\u001b[0m\u001b[1;33m(\u001b[0m\u001b[0mimage\u001b[0m\u001b[1;33m,\u001b[0m \u001b[0mcv2\u001b[0m\u001b[1;33m.\u001b[0m\u001b[0mCOLOR_BGR2GRAY\u001b[0m\u001b[1;33m)\u001b[0m \u001b[1;31m#converting the image to grayscale\u001b[0m\u001b[1;33m\u001b[0m\u001b[1;33m\u001b[0m\u001b[0m\n\u001b[0;32m     17\u001b[0m \u001b[1;33m\u001b[0m\u001b[0m\n",
            "\u001b[1;31mKeyboardInterrupt\u001b[0m: "
          ]
        }
      ],
      "source": [
        "augmented_path = \"C:\\\\Users\\\\anant\\\\jupyterBooks\\\\LectureNotebooks\\\\2022W\\\\AML_2404_LAB\\\\data1\\\\augmented\"\n",
        "        \n",
        "\n",
        "for foldername in os.listdir(augmented_path): # retrieving the image files in the particular folder\n",
        "    \n",
        "    folder = augmented_path+\"\\\\\"+foldername\n",
        "    copy_path = augmented_path+'\\\\'+foldername+'\\\\cropped\\\\'\n",
        "    print(copy_path)\n",
        "    count = 0\n",
        "    \n",
        "    for filename in os.listdir(folder):\n",
        "    \n",
        "        if filename != 'cropped':\n",
        "            count += 1\n",
        "            image = cv2.imread(folder+\"\\\\\"+filename) #reading the images\n",
        "            imgray = cv2.cvtColor(image, cv2.COLOR_BGR2GRAY) #converting the image to grayscale\n",
        "            \n",
        "            ret, thresh = cv2.threshold(imgray, 0, 1, 0) #finding image threshold\n",
        "            contours, hierarchy = cv2.findContours(thresh, cv2.RETR_EXTERNAL, cv2.CHAIN_APPROX_NONE)\n",
        "            # finding all the contours using chain approx none, chain_approx_simple creating many no of contours\n",
        "            \n",
        "            contour_max = max(contours, key = cv2.contourArea) # finding the highest contour for cropping the image\n",
        "            \n",
        "            x,y,w,h = cv2.boundingRect(contour_max) # getting the co-ordinates\n",
        "            image = image[y:y+h, x:x+w] # cropping the frame\n",
        "            cv2.imwrite(copy_path + f'{foldername}_{count}.jpg', image)\n",
        "\n",
        "        else:\n",
        "            pass\n",
        "        "
      ],
      "id": "b8e8767c"
    },
    {
      "cell_type": "code",
      "execution_count": null,
      "metadata": {
        "id": "3b458b78"
      },
      "outputs": [],
      "source": [
        "import os\n",
        "import numpy as np\n",
        "import cv2"
      ],
      "id": "3b458b78"
    },
    {
      "cell_type": "code",
      "execution_count": null,
      "metadata": {
        "id": "1d49a82d"
      },
      "outputs": [],
      "source": [
        "from keras.preprocessing.image import ImageDataGenerator, img_to_array"
      ],
      "id": "1d49a82d"
    },
    {
      "cell_type": "markdown",
      "metadata": {
        "id": "edbba8a1"
      },
      "source": [
        "## Testing Augmenting image code"
      ],
      "id": "edbba8a1"
    },
    {
      "cell_type": "code",
      "execution_count": null,
      "metadata": {
        "id": "50f65a94",
        "outputId": "583b045f-1aa1-4ec1-9436-440be50d5902",
        "scrolled": true
      },
      "outputs": [
        {
          "name": "stdout",
          "output_type": "stream",
          "text": [
            "['abnormalHR_0.jpg_0_840.jpeg', 'abnormalHR_0_cropped.jpeg.jpg', 'abnormalHR_124_cropped.jpeg.jpg', 'abnormalHR_14.jpg', 'abnormalHR_24.jpg_0_9181.jpeg', 'Screenshot 2022-03-28 222642.jpg']\n"
          ]
        }
      ],
      "source": [
        "path = \"C:\\\\Users\\\\anant\\\\jupyterBooks\\\\LectureNotebooks\\\\2022W\\\\AML_2404_LAB\\\\data\\\\test\"\n",
        "os.chdir(path)\n",
        "print(os.listdir(os.curdir))\n",
        "filename = \"abnormalHR_14\"\n",
        "\n",
        "img_batch_size = 8\n",
        "\n",
        "data_gen_args = dict(\n",
        "                     width_shift_range=0.1,\n",
        "                     height_shift_range=0.1,\n",
        "                     zoom_range=0.2,\n",
        "                     fill_mode='constant',\n",
        "                     cval=255\n",
        "                    )\n",
        "image_datagen = ImageDataGenerator(**data_gen_args)\n",
        "\n",
        "\n",
        "img = cv2.imread(\"abnormalHR_14.jpg\")\n",
        "\n",
        "\n",
        "reshaped_np_arr = img.reshape((1,)+img.shape)\n",
        "count = 0\n",
        "\n",
        "#             generating the augmentation of images\n",
        "for batch in image_datagen.flow(\n",
        "    reshaped_np_arr,\n",
        "    batch_size=1,\n",
        "    save_to_dir=os.curdir,\n",
        "    save_prefix = filename,\n",
        "    save_format='jpeg',\n",
        "    seed=20\n",
        "):\n",
        "\n",
        "    count += 1\n",
        "    if count == img_batch_size:\n",
        "        break"
      ],
      "id": "50f65a94"
    },
    {
      "cell_type": "code",
      "execution_count": null,
      "metadata": {
        "id": "d94496cf",
        "outputId": "bbbe1cc7-0c0f-4164-9ff8-81af8091b7d6"
      },
      "outputs": [
        {
          "name": "stdout",
          "output_type": "stream",
          "text": [
            "['abnormalHR_0.jpg_0_840.jpeg']\n",
            "<class 'tuple'>\n",
            "2\n"
          ]
        }
      ],
      "source": [
        "path = \"C:\\\\Users\\\\anant\\\\jupyterBooks\\\\LectureNotebooks\\\\2022W\\\\AML_2404_LAB\\\\data\\\\test\"\n",
        "os.chdir(path)\n",
        "print(os.listdir(os.curdir))\n",
        "img = cv2.imread('abnormalHR_0.jpg_0_840.jpeg')\n",
        "\n",
        "imgray = cv2.cvtColor(img, cv2.COLOR_BGR2GRAY)\n",
        "ret, thresh = cv2.threshold(imgray, 0, 1, 0)\n",
        "contours, hierarchy = cv2.findContours(thresh, cv2.RETR_EXTERNAL, cv2.CHAIN_APPROX_NONE)\n",
        "print(type(contours))\n",
        "print(len(contours))\n",
        "\n",
        "if len(contours) != 0:\n",
        "        \n",
        "    c = max(contours, key = cv2.contourArea)\n",
        "    contour_image = cv2.drawContours(img, contours, -1, (255,0,0), 3)\n",
        "    cv2.imshow(\"out\", contour_image)\n",
        "    cv2.waitKey(0)\n",
        "    x,y,w,h = cv2.boundingRect(c)\n",
        "        \n",
        "    rect = contour_image[y:y+h, x:x+w]\n",
        "    cv2.imshow(\"out\", rect)\n",
        "    cv2.waitKey(0)\n",
        "    cv2.destroyAllWindows()\n",
        "    "
      ],
      "id": "d94496cf"
    },
    {
      "cell_type": "code",
      "execution_count": null,
      "metadata": {
        "id": "5467eb50",
        "outputId": "746d1dad-c1f1-457d-acb5-c2002f3cb99d",
        "scrolled": true
      },
      "outputs": [
        {
          "name": "stdout",
          "output_type": "stream",
          "text": [
            "['abnormalHR_0.jpg_0_840.jpeg', 'abnormalHR_0_cropped.jpeg.jpg', 'abnormalHR_124_cropped.jpeg.jpg', 'abnormalHR_24.jpg_0_9181.jpeg', 'Screenshot 2022-03-28 222642.jpg']\n",
            "[[[ -1  -1   1  -1]\n",
            "  [  2  -1  -1   0]\n",
            "  [  3   1  -1   0]\n",
            "  ...\n",
            "  [358 356  -1   0]\n",
            "  [359 357  -1   0]\n",
            "  [ -1 358  -1   0]]]\n",
            "360\n"
          ]
        },
        {
          "data": {
            "text/plain": [
              "True"
            ]
          },
          "execution_count": 3,
          "metadata": {},
          "output_type": "execute_result"
        }
      ],
      "source": [
        "path = \"C:\\\\Users\\\\anant\\\\jupyterBooks\\\\LectureNotebooks\\\\2022W\\\\AML_2404_LAB\\\\data\\\\test\"\n",
        "os.chdir(path)\n",
        "print(os.listdir(os.curdir))\n",
        "filename = \"abnormalHR_124_cropped.jpeg\"\n",
        "image = cv2.imread(\"abnormalHR_24.jpg_0_9181.jpeg\") #reading the images\n",
        "\n",
        "imgray = cv2.cvtColor(image, cv2.COLOR_BGR2GRAY) #converting the image to grayscale\n",
        "ret, thresh = cv2.threshold(imgray, 0, 1, 0) #finding image threshold\n",
        "contours, hierarchy = cv2.findContours(thresh, cv2.RETR_TREE, cv2.CHAIN_APPROX_SIMPLE)\n",
        "# finding all the contours using chain approx none, chain_approx_simple creating many no of contours\n",
        "print(hierarchy)\n",
        "print(len(contours))\n",
        "\n",
        "contour_max = max(contours, key = cv2.contourArea) # finding the highest contour for cropping the image\n",
        "\n",
        "x,y,w,h = cv2.boundingRect(contour_max) # getting the co-ordinates\n",
        "\n",
        "image = image[y:y+h, x:x+w] # cropping the frame\n",
        "cv2.imwrite(f'{filename}.jpg', image)"
      ],
      "id": "5467eb50"
    },
    {
      "cell_type": "code",
      "execution_count": null,
      "metadata": {
        "id": "650ee01d",
        "outputId": "3b6ac0ab-07fb-4976-de54-8c4545f660e1",
        "scrolled": true
      },
      "outputs": [
        {
          "name": "stdout",
          "output_type": "stream",
          "text": [
            "['abnormalHR_0.jpg_0_840.jpeg']\n",
            "<class 'numpy.ndarray'>\n",
            "(101, 1, 2)\n"
          ]
        }
      ],
      "source": [
        "path = \"C:\\\\Users\\\\anant\\\\jupyterBooks\\\\LectureNotebooks\\\\2022W\\\\AML_2404_LAB\\\\data\\\\test\"\n",
        "os.chdir(path)\n",
        "print(os.listdir(os.curdir))\n",
        "img = cv2.imread('abnormalHR_0.jpg_0_840.jpeg', cv2.IMREAD_GRAYSCALE)\n",
        "\n",
        "# contours, _ = cv2.findContours(...) # Your call to find the contours using OpenCV 2.4.x\n",
        "blur = cv2.GaussianBlur(img,(5,5),0)\n",
        "ret, threshold = cv2.threshold(blur,0,255,cv2.THRESH_BINARY+cv2.THRESH_OTSU)\n",
        "contrs, _ = cv2.findContours(threshold,cv2.RETR_TREE,cv2.CHAIN_APPROX_SIMPLE) # using threshold to get the contours\n",
        "\n",
        "contrs_list = list(contrs)\n",
        "contrs_list.remove(max(contrs_list, key = cv2.contourArea)) # removing the frame\n",
        "# again getting the largest frame that is the pulse frame\n",
        "\n",
        "c = max(contrs_list, key = cv2.contourArea)\n",
        "\n",
        "\n",
        "x,y,w,h = cv2.boundingRect(c) # getting the co-ordinates\n",
        "\n",
        "\n",
        "rect = img[y:y+h, x:x+w] # cropping the frame\n",
        "\n",
        "#                 cv2.rectangle(image,(x,y),(x+w,y+h),(0,255,0),10) # drawing rectangle with the co-ordinates\n",
        "\n",
        "#                 gamma_corrected = gammaCorrection(rect,3) # gamma correction\n",
        "\n",
        "#                 (thresh, im_bw) = cv2.threshold(gamma_corrected, 50, 255, cv2.THRESH_BINARY | cv2.THRESH_OTSU) # threshold is increased\n",
        "\n",
        "#                 im_bw_resize = cv2.resize(im_bw,(720, 576)) # resizing the image to 256\n",
        "# img = Image.fromarray(rect)\n",
        "\n",
        "\n",
        "cv2.imshow('image',rect)\n",
        "# cv2.drawContours(img, contrs, 3, (0,255,0), 3)\n",
        "cv2.waitKey(0)\n",
        "cv2.destroyAllWindows()\n",
        "\n",
        "#thrsh = cv2.adaptiveThreshold(img,255,cv2.ADAPTIVE_THRESH_MEAN_C,cv2.THRESH_BINARY,41,21) \n",
        "\n",
        "# canny_output = cv2.Canny(img, thrsh, thrsh * 2)\n",
        "# contours, _ = cv2.findContours(thrsh.copy(), cv2.RETR_TREE, cv2.CHAIN_APPROX_SIMPLE) # Your call to find the contours\n",
        "# print(contours)\n",
        "\n",
        "# # Draw contours\n",
        "# drawing = np.zeros((canny_output.shape[0], canny_output.shape[1], 3), dtype=np.uint8)\n",
        "# for i in range(len(contours)):\n",
        "#     color = (rng.randint(0,256), rng.randint(0,256), rng.randint(0,256))\n",
        "#     cv.drawContours(drawing, contours, i, color, 2, cv.LINE_8, hierarchy, 0)\n",
        "# # Show in a window\n",
        "# cv.imshow('Contours', drawing)\n",
        "\n"
      ],
      "id": "650ee01d"
    },
    {
      "cell_type": "code",
      "execution_count": null,
      "metadata": {
        "id": "185707d1"
      },
      "outputs": [],
      "source": [
        "idx = 2 # The index of the contour that surrounds your object\n",
        "mask = np.zeros_like(img) # Create mask where white is what we want, black otherwise\n",
        "cv2.drawContours(mask, contours, idx, 255, -1) # Draw filled contour in mask\n",
        "out = np.zeros_like(img) # Extract out the object and place into output image\n",
        "out[mask == 255] = img[mask == 255]\n",
        "\n",
        "# Show the output image\n",
        "cv2.imshow('Output', out)\n",
        "cv2.waitKey(0)\n",
        "cv2.destroyAllWindows()"
      ],
      "id": "185707d1"
    },
    {
      "cell_type": "code",
      "execution_count": null,
      "metadata": {
        "id": "f54791c5",
        "outputId": "8d477445-74f0-460a-a127-e0f211f69a2b"
      },
      "outputs": [
        {
          "name": "stdout",
          "output_type": "stream",
          "text": [
            "['abnormalHR_0.jpg_0_840.jpeg']\n"
          ]
        }
      ],
      "source": [
        "path = \"C:\\\\Users\\\\anant\\\\jupyterBooks\\\\LectureNotebooks\\\\2022W\\\\AML_2404_LAB\\\\data\\\\test\"\n",
        "os.chdir(path)\n",
        "print(os.listdir(os.curdir))\n",
        "img = cv2.imread('abnormalHR_0.jpg_0_840.jpeg') # Read in your image\n",
        "gray = cv2.cvtColor(img, cv2.COLOR_BGR2GRAY)\n",
        "ret, mask = cv2.threshold(gray, 0, 255, cv2.THRESH_BINARY+cv2.THRESH_OTSU) \n",
        "\n",
        "kernel = np.ones((9,9), np.uint8)\n",
        "mask = cv2.morphologyEx(mask, cv2.MORPH_CLOSE, kernel)\n",
        "mask = cv2.morphologyEx(mask, cv2.MORPH_OPEN, kernel)\n",
        "\n",
        "# put mask into alpha channel of result\n",
        "result = img.copy()\n",
        "result = cv2.cvtColor(result, cv2.COLOR_BGR2BGRA)\n",
        "result[:, :, 3] = mask\n",
        "\n",
        "# save resulting masked image\n",
        "#cv2.imwrite('retina_masked.png', result)\n",
        "cv2.imshow('Output', result)\n",
        "cv2.waitKey(0)\n",
        "cv2.destroyAllWindows()"
      ],
      "id": "f54791c5"
    },
    {
      "cell_type": "code",
      "execution_count": null,
      "metadata": {
        "id": "ed620adf"
      },
      "outputs": [],
      "source": [
        "# PATH = \"data/covid19/\"\n",
        "\n",
        "\n",
        "# for filename in os.listdir(PATH):\n",
        "#     img = Image.open(os.path.join(PATH, filename)) # images are color images\n",
        "#     img = img.resize((1920,1080), Image.BICUBIC)\n",
        "#     img.save(Copy_to_path+filename) "
      ],
      "id": "ed620adf"
    },
    {
      "cell_type": "code",
      "execution_count": null,
      "metadata": {
        "id": "93a0cf44"
      },
      "outputs": [],
      "source": [
        "\n",
        "# filename = 'data/covid19/Binder1_Page_001.jpg'\n",
        "\n",
        "# size = (720, 576)\n",
        "# count = 0\n",
        "# for filename in g\n",
        "# with Image.open(filename) as im:\n",
        "#     gray_img = ImageOps.grayscale(im)\n",
        "#     gray_img.save('data/covid19/processed/covid001'+'.jpeg')"
      ],
      "id": "93a0cf44"
    },
    {
      "cell_type": "code",
      "execution_count": null,
      "metadata": {
        "id": "89b2cf41"
      },
      "outputs": [],
      "source": [
        "# file_path = \"data/covid19/Binder1_Page_017\"\n",
        "# Copy_to_path=\"data/covid19/processed/\"\n",
        "\n",
        "# count = 0\n",
        "\n",
        "# for filename in glob.glob(f'{file_path}.jpg'):\n",
        "#     count += 1\n",
        "#     with Image.open(filename) as img:\n",
        "#         img = img.convert('L')\n",
        "#         img = img.filter(ImageFilter.SHARPEN)\n",
        "#         img = img.filter(ImageFilter.EDGE_ENHANCE)\n",
        "        \n",
        "#         #img = img.filter(ImageFilter.CONTOUR)    \n",
        "#         #img = img.filter(ImageFilter.EMBOSS)\n",
        "#         #img = img.filter(ImageFilter.EDGE_ENHANCE)\n",
        "#         image = np.array(img) # converting PIL image to numpy array\n",
        "        \n",
        "#         thrsh = cv2.adaptiveThreshold(image, 255, cv2.ADAPTIVE_THRESH_MEAN_C, cv2.THRESH_BINARY, 41, 21) \n",
        "\n",
        "#         contrs, _ = cv2.findContours(thrsh.copy(),cv2.RETR_TREE,cv2.CHAIN_APPROX_SIMPLE) # using threshold to get the contours\n",
        "#         contrs = list(contrs)\n",
        "        \n",
        "#         c = max(contrs, key = cv2.contourArea)\n",
        "        \n",
        "#         contrs.remove(max(contrs, key = cv2.contourArea)) # removing the frame\n",
        "\n",
        "#         c = max(contrs, key = cv2.contourArea) # again getting the largest frame that is the pulse frame\n",
        "\n",
        "#         x,y,w,h = cv2.boundingRect(c) # getting the co-ordinates\n",
        "\n",
        "\n",
        "#         rect = image[y:y+h, x:x+w] # cropping the frame\n",
        "\n",
        "#         cv2.rectangle(image,(x,y),(x+w,y+h),(0,255,0),10) # drawing rectangle with the co-ordinates\n",
        "\n",
        "#         gamma_corrected = gammaCorrection(rect,3) # gamma correction\n",
        "\n",
        "#         (thresh, im_bw) = cv2.threshold(gamma_corrected, 50, 255, cv2.THRESH_BINARY | cv2.THRESH_OTSU) # threshold is increased\n",
        "        \n",
        "#         print(type(im_bw))\n",
        "#         processed_img = Image.fromarray(im_bw) #Converting the array to image\n",
        "#         processed_img.show()\n",
        "#         processed_img.save(Copy_to_path+f'/covid19_{count}.jpg', 'JPEG') \n"
      ],
      "id": "89b2cf41"
    },
    {
      "cell_type": "code",
      "execution_count": null,
      "metadata": {
        "id": "e882a52b"
      },
      "outputs": [],
      "source": [
        ""
      ],
      "id": "e882a52b"
    }
  ],
  "metadata": {
    "accelerator": "TPU",
    "colab": {
      "collapsed_sections": [
        "02026858",
        "e45595ff",
        "5bfe0655",
        "848babe1",
        "6yR-iVYjYVTs",
        "-nHEasZLBirl",
        "qGf3vhB_YkY2",
        "18TJfAkrZeRl",
        "4fb23d9f",
        "c39b4a18",
        "edbba8a1"
      ],
      "machine_shape": "hm",
      "name": "ECG_imagedatase.ipynb",
      "provenance": []
    },
    "kernelspec": {
      "display_name": "Python 3 (ipykernel)",
      "language": "python",
      "name": "python3"
    },
    "language_info": {
      "codemirror_mode": {
        "name": "ipython",
        "version": 3
      },
      "file_extension": ".py",
      "mimetype": "text/x-python",
      "name": "python",
      "nbconvert_exporter": "python",
      "pygments_lexer": "ipython3",
      "version": "3.9.7"
    }
  },
  "nbformat": 4,
  "nbformat_minor": 5
}